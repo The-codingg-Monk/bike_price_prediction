{
 "cells": [
  {
   "cell_type": "code",
   "execution_count": 1,
   "id": "900c3021",
   "metadata": {},
   "outputs": [],
   "source": [
    "import pandas as pd\n",
    "import numpy as np\n",
    "\n",
    "import matplotlib.pyplot as plt\n",
    "import seaborn as sns\n",
    "\n",
    "from sklearn.model_selection import train_test_split, GridSearchCV, RandomizedSearchCV\n",
    "from sklearn.linear_model import LinearRegression\n",
    "from sklearn.neighbors import KNeighborsRegressor\n",
    "from sklearn.tree import DecisionTreeRegressor\n",
    "from sklearn.ensemble import RandomForestRegressor\n",
    "\n",
    "from sklearn.preprocessing import OneHotEncoder,OrdinalEncoder,StandardScaler\n",
    "from sklearn.compose import ColumnTransformer\n",
    "\n",
    "from sklearn.metrics import mean_squared_error,mean_absolute_error,r2_score\n",
    "import pickle\n",
    "\n"
   ]
  },
  {
   "cell_type": "code",
   "execution_count": 2,
   "id": "903d5d74",
   "metadata": {},
   "outputs": [],
   "source": [
    "df=pd.read_csv(r\"C:\\Users\\kannu\\OneDrive\\Desktop\\Pandas_csvs\\Datasets\\Regression_data_sets\\used_bikes.csv\")"
   ]
  },
  {
   "cell_type": "code",
   "execution_count": 3,
   "id": "421637f7",
   "metadata": {},
   "outputs": [
    {
     "data": {
      "text/html": [
       "<div>\n",
       "<style scoped>\n",
       "    .dataframe tbody tr th:only-of-type {\n",
       "        vertical-align: middle;\n",
       "    }\n",
       "\n",
       "    .dataframe tbody tr th {\n",
       "        vertical-align: top;\n",
       "    }\n",
       "\n",
       "    .dataframe thead th {\n",
       "        text-align: right;\n",
       "    }\n",
       "</style>\n",
       "<table border=\"1\" class=\"dataframe\">\n",
       "  <thead>\n",
       "    <tr style=\"text-align: right;\">\n",
       "      <th></th>\n",
       "      <th>bike_name</th>\n",
       "      <th>price</th>\n",
       "      <th>city</th>\n",
       "      <th>kms_driven</th>\n",
       "      <th>owner</th>\n",
       "      <th>age</th>\n",
       "      <th>power</th>\n",
       "      <th>brand</th>\n",
       "    </tr>\n",
       "  </thead>\n",
       "  <tbody>\n",
       "    <tr>\n",
       "      <th>0</th>\n",
       "      <td>TVS Star City Plus Dual Tone 110cc</td>\n",
       "      <td>35000.0</td>\n",
       "      <td>Ahmedabad</td>\n",
       "      <td>17654.0</td>\n",
       "      <td>First Owner</td>\n",
       "      <td>3.0</td>\n",
       "      <td>110.0</td>\n",
       "      <td>TVS</td>\n",
       "    </tr>\n",
       "    <tr>\n",
       "      <th>1</th>\n",
       "      <td>Royal Enfield Classic 350cc</td>\n",
       "      <td>119900.0</td>\n",
       "      <td>Delhi</td>\n",
       "      <td>11000.0</td>\n",
       "      <td>First Owner</td>\n",
       "      <td>4.0</td>\n",
       "      <td>350.0</td>\n",
       "      <td>Royal Enfield</td>\n",
       "    </tr>\n",
       "    <tr>\n",
       "      <th>2</th>\n",
       "      <td>Triumph Daytona 675R</td>\n",
       "      <td>600000.0</td>\n",
       "      <td>Delhi</td>\n",
       "      <td>110.0</td>\n",
       "      <td>First Owner</td>\n",
       "      <td>8.0</td>\n",
       "      <td>675.0</td>\n",
       "      <td>Triumph</td>\n",
       "    </tr>\n",
       "    <tr>\n",
       "      <th>3</th>\n",
       "      <td>TVS Apache RTR 180cc</td>\n",
       "      <td>65000.0</td>\n",
       "      <td>Bangalore</td>\n",
       "      <td>16329.0</td>\n",
       "      <td>First Owner</td>\n",
       "      <td>4.0</td>\n",
       "      <td>180.0</td>\n",
       "      <td>TVS</td>\n",
       "    </tr>\n",
       "    <tr>\n",
       "      <th>4</th>\n",
       "      <td>Yamaha FZ S V 2.0 150cc-Ltd. Edition</td>\n",
       "      <td>80000.0</td>\n",
       "      <td>Bangalore</td>\n",
       "      <td>10000.0</td>\n",
       "      <td>First Owner</td>\n",
       "      <td>3.0</td>\n",
       "      <td>150.0</td>\n",
       "      <td>Yamaha</td>\n",
       "    </tr>\n",
       "  </tbody>\n",
       "</table>\n",
       "</div>"
      ],
      "text/plain": [
       "                              bike_name     price       city  kms_driven  \\\n",
       "0    TVS Star City Plus Dual Tone 110cc   35000.0  Ahmedabad     17654.0   \n",
       "1           Royal Enfield Classic 350cc  119900.0      Delhi     11000.0   \n",
       "2                  Triumph Daytona 675R  600000.0      Delhi       110.0   \n",
       "3                  TVS Apache RTR 180cc   65000.0  Bangalore     16329.0   \n",
       "4  Yamaha FZ S V 2.0 150cc-Ltd. Edition   80000.0  Bangalore     10000.0   \n",
       "\n",
       "         owner  age  power          brand  \n",
       "0  First Owner  3.0  110.0            TVS  \n",
       "1  First Owner  4.0  350.0  Royal Enfield  \n",
       "2  First Owner  8.0  675.0        Triumph  \n",
       "3  First Owner  4.0  180.0            TVS  \n",
       "4  First Owner  3.0  150.0         Yamaha  "
      ]
     },
     "execution_count": 3,
     "metadata": {},
     "output_type": "execute_result"
    }
   ],
   "source": [
    "df.head()"
   ]
  },
  {
   "cell_type": "code",
   "execution_count": 4,
   "id": "343443e3",
   "metadata": {},
   "outputs": [
    {
     "data": {
      "text/plain": [
       "(32648, 8)"
      ]
     },
     "execution_count": 4,
     "metadata": {},
     "output_type": "execute_result"
    }
   ],
   "source": [
    "df.shape"
   ]
  },
  {
   "cell_type": "markdown",
   "id": "61d29259",
   "metadata": {},
   "source": [
    "### EDA"
   ]
  },
  {
   "cell_type": "code",
   "execution_count": 5,
   "id": "81b24892",
   "metadata": {},
   "outputs": [
    {
     "data": {
      "text/plain": [
       "bike_name     0\n",
       "price         0\n",
       "city          0\n",
       "kms_driven    0\n",
       "owner         0\n",
       "age           0\n",
       "power         0\n",
       "brand         0\n",
       "dtype: int64"
      ]
     },
     "execution_count": 5,
     "metadata": {},
     "output_type": "execute_result"
    }
   ],
   "source": [
    "df.isna().sum()"
   ]
  },
  {
   "cell_type": "code",
   "execution_count": 6,
   "id": "6d71c960",
   "metadata": {},
   "outputs": [
    {
     "name": "stdout",
     "output_type": "stream",
     "text": [
      "<class 'pandas.core.frame.DataFrame'>\n",
      "RangeIndex: 32648 entries, 0 to 32647\n",
      "Data columns (total 8 columns):\n",
      " #   Column      Non-Null Count  Dtype  \n",
      "---  ------      --------------  -----  \n",
      " 0   bike_name   32648 non-null  object \n",
      " 1   price       32648 non-null  float64\n",
      " 2   city        32648 non-null  object \n",
      " 3   kms_driven  32648 non-null  float64\n",
      " 4   owner       32648 non-null  object \n",
      " 5   age         32648 non-null  float64\n",
      " 6   power       32648 non-null  float64\n",
      " 7   brand       32648 non-null  object \n",
      "dtypes: float64(4), object(4)\n",
      "memory usage: 2.0+ MB\n"
     ]
    }
   ],
   "source": [
    "df.info()"
   ]
  },
  {
   "cell_type": "code",
   "execution_count": 7,
   "id": "cbbcdc74",
   "metadata": {},
   "outputs": [],
   "source": [
    "#bike_name"
   ]
  },
  {
   "cell_type": "code",
   "execution_count": 8,
   "id": "65527973",
   "metadata": {},
   "outputs": [
    {
     "data": {
      "text/plain": [
       "Bajaj Pulsar 150cc                      2776\n",
       "Bajaj Avenger Street 220                2531\n",
       "Bajaj Avenger 220cc                     2060\n",
       "Royal Enfield Classic 350cc             1673\n",
       "Hero Passion Pro 100cc                  1432\n",
       "Hero Passion 100cc                      1238\n",
       "Royal Enfield Thunderbird 350cc          919\n",
       "Yamaha YZF-R15 2.0 150cc                 769\n",
       "Royal Enfield Bullet Electra 350cc       756\n",
       "Bajaj Pulsar NS200                       708\n",
       "KTM RC 390cc                             705\n",
       "Bajaj Dominar 400 ABS                    700\n",
       "Hero CD Deluxe 100cc                     693\n",
       "Bajaj Platina 100cc                      686\n",
       "Hero CBZ Xtreme 150cc                    686\n",
       "Honda CB Trigger 150cc                   681\n",
       "TVS Apache RTR 180cc                     675\n",
       "Yamaha Fazer 150cc                       674\n",
       "Yamaha FZ 150cc                          661\n",
       "Hero Super Splendor 125cc                649\n",
       "Honda CB Hornet 160R STD                 641\n",
       "Harley-Davidson Street 750 ABS           631\n",
       "Hero Hunk Rear Disc 150cc                619\n",
       "Suzuki Slingshot Plus 125cc              617\n",
       "Yamaha SZ-RR 150cc                       613\n",
       "Yamaha Fazer 25 250cc                    613\n",
       "Suzuki Zeus 125cc                        608\n",
       "Hero Splendor Plus 100cc                 189\n",
       "Honda CB Shine 125cc                     171\n",
       "Bajaj V15 150cc                          159\n",
       "Bajaj Avenger Street 150                 150\n",
       "TVS Apache RTR 160cc                     134\n",
       "Yamaha FZs 150cc                         127\n",
       "KTM Duke 390cc                           124\n",
       "Bajaj Pulsar RS200 ABS                   123\n",
       "KTM RC 200cc                             111\n",
       "Bajaj Discover 125cc                     105\n",
       "Royal Enfield Thunderbird 500cc          103\n",
       "Hero HF Deluxe 100cc                     101\n",
       "Bajaj Pulsar 220cc                        98\n",
       "Bajaj Pulsar 180cc                        93\n",
       "KTM Duke 200cc                            90\n",
       "Royal Enfield Classic 500cc               89\n",
       "Bajaj Pulsar RS200                        80\n",
       "Bajaj CT 100 100cc                        80\n",
       "Hero Passion Plus 100cc                   79\n",
       "Bajaj Discover 100cc                      79\n",
       "Bajaj Pulsar 135LS                        78\n",
       "Honda CBF Stunner 125cc                   76\n",
       "Bajaj Avenger Cruise 220                  72\n",
       "Honda CBR 150R 150cc                      71\n",
       "Honda CB Unicorn 150cc                    71\n",
       "Yamaha YZF-R15 150cc                      69\n",
       "Bajaj Pulsar 220F                         68\n",
       "Harley-Davidson Street 750                66\n",
       "Hero Splendor Pro 100cc                   62\n",
       "Suzuki Gixxer 150cc                       62\n",
       "Royal Enfield Bullet Twinspark 350cc      58\n",
       "Royal Enfield Bullet 350cc                57\n",
       "Honda Dream Yuga 110cc                    56\n",
       "Name: bike_name, dtype: int64"
      ]
     },
     "execution_count": 8,
     "metadata": {},
     "output_type": "execute_result"
    }
   ],
   "source": [
    "df[\"bike_name\"].value_counts().head(60)"
   ]
  },
  {
   "cell_type": "code",
   "execution_count": 9,
   "id": "549b7aa0",
   "metadata": {},
   "outputs": [
    {
     "data": {
      "text/plain": [
       "Delhi                  7318\n",
       "Bangalore              2723\n",
       "Mumbai                 2591\n",
       "Hyderabad              2160\n",
       "Pune                   1724\n",
       "Chennai                1619\n",
       "Lucknow                1294\n",
       "Jaipur                 1007\n",
       "Ghaziabad               938\n",
       "Ahmedabad               905\n",
       "Noida                   776\n",
       "Bhopal                  651\n",
       "Gautam Buddha Nagar     649\n",
       "Kanchipuram             640\n",
       "Jodhpur                 635\n",
       "Karnal                  625\n",
       "Rupnagar                621\n",
       "Allahabad               621\n",
       "Gurgaon                 617\n",
       "Godhara                 611\n",
       "Faridabad               609\n",
       "Kadapa                  608\n",
       "Perumbavoor             608\n",
       "Ludhiana                100\n",
       "Kolkata                  97\n",
       "Thane                    94\n",
       "Jhansi                   87\n",
       "Vadodara                 75\n",
       "Surat                    57\n",
       "Jalandhar                52\n",
       "Chandigarh               46\n",
       "Rajkot                   36\n",
       "Indore                   33\n",
       "Dehradun                 30\n",
       "Patna                    29\n",
       "Navi Mumbai              27\n",
       "Nagpur                   27\n",
       "Coimbatore               25\n",
       "Tiruvallur               23\n",
       "Guwahati                 23\n",
       "Bhubaneshwar             22\n",
       "Howrah                   21\n",
       "Kanpur                   19\n",
       "Aurangabad               18\n",
       "Cuttack                  17\n",
       "Visakhapatnam            16\n",
       "Alibag                   15\n",
       "Alipore                  14\n",
       "Kalyan                   13\n",
       "Nashik                   13\n",
       "Ranchi                   13\n",
       "Udaipur                  12\n",
       "Rohtak                   12\n",
       "Agra                     12\n",
       "Kota                     12\n",
       "Gorakhpur                12\n",
       "24 Pargana               11\n",
       "Ernakulam                11\n",
       "Gandhinagar              11\n",
       "Meerut                   11\n",
       "Name: city, dtype: int64"
      ]
     },
     "execution_count": 9,
     "metadata": {},
     "output_type": "execute_result"
    }
   ],
   "source": [
    "## city\n",
    "df[\"city\"].value_counts().head(60)"
   ]
  },
  {
   "cell_type": "code",
   "execution_count": 10,
   "id": "fb277e3e",
   "metadata": {},
   "outputs": [
    {
     "data": {
      "text/plain": [
       "First Owner             29964\n",
       "Second Owner             2564\n",
       "Third Owner               108\n",
       "Fourth Owner Or More       12\n",
       "Name: owner, dtype: int64"
      ]
     },
     "execution_count": 10,
     "metadata": {},
     "output_type": "execute_result"
    }
   ],
   "source": [
    "df[\"owner\"].value_counts()"
   ]
  },
  {
   "cell_type": "code",
   "execution_count": 11,
   "id": "4c58deae",
   "metadata": {},
   "outputs": [
    {
     "data": {
      "text/plain": [
       "Bajaj              11213\n",
       "Hero                6368\n",
       "Royal Enfield       4178\n",
       "Yamaha              3916\n",
       "Honda               2108\n",
       "Suzuki              1464\n",
       "TVS                 1247\n",
       "KTM                 1077\n",
       "Harley-Davidson      737\n",
       "Kawasaki              79\n",
       "Name: brand, dtype: int64"
      ]
     },
     "execution_count": 11,
     "metadata": {},
     "output_type": "execute_result"
    }
   ],
   "source": [
    "#brand\n",
    "df['brand'].value_counts().sort_values(ascending=False).head(10)"
   ]
  },
  {
   "cell_type": "code",
   "execution_count": 12,
   "id": "f8633d6d",
   "metadata": {},
   "outputs": [
    {
     "data": {
      "text/plain": [
       "Delhi            7318\n",
       "Bangalore        2723\n",
       "Mumbai           2591\n",
       "Hyderabad        2160\n",
       "Pune             1724\n",
       "                 ... \n",
       "Surendranagar       1\n",
       "Khandela            1\n",
       "Mohammadabad        1\n",
       "Shimla              1\n",
       "Sidhi               1\n",
       "Name: city, Length: 443, dtype: int64"
      ]
     },
     "execution_count": 12,
     "metadata": {},
     "output_type": "execute_result"
    }
   ],
   "source": [
    "df[\"city\"].value_counts()"
   ]
  },
  {
   "cell_type": "code",
   "execution_count": 13,
   "id": "5330eb44",
   "metadata": {},
   "outputs": [
    {
     "data": {
      "text/plain": [
       "Bajaj Pulsar 150cc                                   2776\n",
       "Bajaj Avenger Street 220                             2531\n",
       "Bajaj Avenger 220cc                                  2060\n",
       "Royal Enfield Classic 350cc                          1673\n",
       "Hero Passion Pro 100cc                               1432\n",
       "                                                     ... \n",
       "Indian Chief Classic 1800cc                             1\n",
       "TVS Apache RTR 160cc White Race Edition Rear Disc       1\n",
       "Triumph Bonneville T100 900cc                           1\n",
       "Bajaj CT110 ES Alloy                                    1\n",
       "Yamaha FZS FI 150cc Special Edition                     1\n",
       "Name: bike_name, Length: 471, dtype: int64"
      ]
     },
     "execution_count": 13,
     "metadata": {},
     "output_type": "execute_result"
    }
   ],
   "source": [
    "df[\"bike_name\"].value_counts()"
   ]
  },
  {
   "cell_type": "code",
   "execution_count": 14,
   "id": "15a12545",
   "metadata": {},
   "outputs": [],
   "source": [
    "x=df.drop(\"price\",axis=1)\n",
    "y=df[\"price\"]"
   ]
  },
  {
   "cell_type": "code",
   "execution_count": 15,
   "id": "3b956220",
   "metadata": {},
   "outputs": [
    {
     "name": "stderr",
     "output_type": "stream",
     "text": [
      "C:\\Users\\kannu\\AppData\\Local\\Temp\\ipykernel_8624\\4174986526.py:3: SettingWithCopyWarning: \n",
      "A value is trying to be set on a copy of a slice from a DataFrame\n",
      "\n",
      "See the caveats in the documentation: https://pandas.pydata.org/pandas-docs/stable/user_guide/indexing.html#returning-a-view-versus-a-copy\n",
      "  df.loc[df.isin (top_10)==False]=\"Uncommon\"\n",
      "C:\\Users\\kannu\\AppData\\Local\\Temp\\ipykernel_8624\\4174986526.py:3: SettingWithCopyWarning: \n",
      "A value is trying to be set on a copy of a slice from a DataFrame\n",
      "\n",
      "See the caveats in the documentation: https://pandas.pydata.org/pandas-docs/stable/user_guide/indexing.html#returning-a-view-versus-a-copy\n",
      "  df.loc[df.isin (top_10)==False]=\"Uncommon\"\n",
      "C:\\Users\\kannu\\AppData\\Local\\Temp\\ipykernel_8624\\4174986526.py:3: SettingWithCopyWarning: \n",
      "A value is trying to be set on a copy of a slice from a DataFrame\n",
      "\n",
      "See the caveats in the documentation: https://pandas.pydata.org/pandas-docs/stable/user_guide/indexing.html#returning-a-view-versus-a-copy\n",
      "  df.loc[df.isin (top_10)==False]=\"Uncommon\"\n"
     ]
    },
    {
     "data": {
      "text/html": [
       "<div>\n",
       "<style scoped>\n",
       "    .dataframe tbody tr th:only-of-type {\n",
       "        vertical-align: middle;\n",
       "    }\n",
       "\n",
       "    .dataframe tbody tr th {\n",
       "        vertical-align: top;\n",
       "    }\n",
       "\n",
       "    .dataframe thead th {\n",
       "        text-align: right;\n",
       "    }\n",
       "</style>\n",
       "<table border=\"1\" class=\"dataframe\">\n",
       "  <thead>\n",
       "    <tr style=\"text-align: right;\">\n",
       "      <th></th>\n",
       "      <th>ohe__city_Bangalore</th>\n",
       "      <th>ohe__city_Chennai</th>\n",
       "      <th>ohe__city_Delhi</th>\n",
       "      <th>ohe__city_Ghaziabad</th>\n",
       "      <th>ohe__city_Hyderabad</th>\n",
       "      <th>ohe__city_Jaipur</th>\n",
       "      <th>ohe__city_Lucknow</th>\n",
       "      <th>ohe__city_Mumbai</th>\n",
       "      <th>ohe__city_Pune</th>\n",
       "      <th>ohe__city_Uncommon</th>\n",
       "      <th>...</th>\n",
       "      <th>ohe__brand_Kawasaki</th>\n",
       "      <th>ohe__brand_Royal Enfield</th>\n",
       "      <th>ohe__brand_Suzuki</th>\n",
       "      <th>ohe__brand_TVS</th>\n",
       "      <th>ohe__brand_Uncommon</th>\n",
       "      <th>ohe__brand_Yamaha</th>\n",
       "      <th>oe__owner</th>\n",
       "      <th>remainder__kms_driven</th>\n",
       "      <th>remainder__age</th>\n",
       "      <th>remainder__power</th>\n",
       "    </tr>\n",
       "  </thead>\n",
       "  <tbody>\n",
       "    <tr>\n",
       "      <th>0</th>\n",
       "      <td>0.0</td>\n",
       "      <td>0.0</td>\n",
       "      <td>0.0</td>\n",
       "      <td>0.0</td>\n",
       "      <td>0.0</td>\n",
       "      <td>0.0</td>\n",
       "      <td>0.0</td>\n",
       "      <td>0.0</td>\n",
       "      <td>0.0</td>\n",
       "      <td>0.0</td>\n",
       "      <td>...</td>\n",
       "      <td>0.0</td>\n",
       "      <td>0.0</td>\n",
       "      <td>0.0</td>\n",
       "      <td>1.0</td>\n",
       "      <td>0.0</td>\n",
       "      <td>0.0</td>\n",
       "      <td>0.0</td>\n",
       "      <td>17654.0</td>\n",
       "      <td>3.0</td>\n",
       "      <td>110.0</td>\n",
       "    </tr>\n",
       "    <tr>\n",
       "      <th>1</th>\n",
       "      <td>0.0</td>\n",
       "      <td>0.0</td>\n",
       "      <td>1.0</td>\n",
       "      <td>0.0</td>\n",
       "      <td>0.0</td>\n",
       "      <td>0.0</td>\n",
       "      <td>0.0</td>\n",
       "      <td>0.0</td>\n",
       "      <td>0.0</td>\n",
       "      <td>0.0</td>\n",
       "      <td>...</td>\n",
       "      <td>0.0</td>\n",
       "      <td>1.0</td>\n",
       "      <td>0.0</td>\n",
       "      <td>0.0</td>\n",
       "      <td>0.0</td>\n",
       "      <td>0.0</td>\n",
       "      <td>0.0</td>\n",
       "      <td>11000.0</td>\n",
       "      <td>4.0</td>\n",
       "      <td>350.0</td>\n",
       "    </tr>\n",
       "    <tr>\n",
       "      <th>2</th>\n",
       "      <td>0.0</td>\n",
       "      <td>0.0</td>\n",
       "      <td>1.0</td>\n",
       "      <td>0.0</td>\n",
       "      <td>0.0</td>\n",
       "      <td>0.0</td>\n",
       "      <td>0.0</td>\n",
       "      <td>0.0</td>\n",
       "      <td>0.0</td>\n",
       "      <td>0.0</td>\n",
       "      <td>...</td>\n",
       "      <td>0.0</td>\n",
       "      <td>0.0</td>\n",
       "      <td>0.0</td>\n",
       "      <td>0.0</td>\n",
       "      <td>1.0</td>\n",
       "      <td>0.0</td>\n",
       "      <td>0.0</td>\n",
       "      <td>110.0</td>\n",
       "      <td>8.0</td>\n",
       "      <td>675.0</td>\n",
       "    </tr>\n",
       "    <tr>\n",
       "      <th>3</th>\n",
       "      <td>1.0</td>\n",
       "      <td>0.0</td>\n",
       "      <td>0.0</td>\n",
       "      <td>0.0</td>\n",
       "      <td>0.0</td>\n",
       "      <td>0.0</td>\n",
       "      <td>0.0</td>\n",
       "      <td>0.0</td>\n",
       "      <td>0.0</td>\n",
       "      <td>0.0</td>\n",
       "      <td>...</td>\n",
       "      <td>0.0</td>\n",
       "      <td>0.0</td>\n",
       "      <td>0.0</td>\n",
       "      <td>1.0</td>\n",
       "      <td>0.0</td>\n",
       "      <td>0.0</td>\n",
       "      <td>0.0</td>\n",
       "      <td>16329.0</td>\n",
       "      <td>4.0</td>\n",
       "      <td>180.0</td>\n",
       "    </tr>\n",
       "    <tr>\n",
       "      <th>4</th>\n",
       "      <td>1.0</td>\n",
       "      <td>0.0</td>\n",
       "      <td>0.0</td>\n",
       "      <td>0.0</td>\n",
       "      <td>0.0</td>\n",
       "      <td>0.0</td>\n",
       "      <td>0.0</td>\n",
       "      <td>0.0</td>\n",
       "      <td>0.0</td>\n",
       "      <td>0.0</td>\n",
       "      <td>...</td>\n",
       "      <td>0.0</td>\n",
       "      <td>0.0</td>\n",
       "      <td>0.0</td>\n",
       "      <td>0.0</td>\n",
       "      <td>0.0</td>\n",
       "      <td>1.0</td>\n",
       "      <td>0.0</td>\n",
       "      <td>10000.0</td>\n",
       "      <td>3.0</td>\n",
       "      <td>150.0</td>\n",
       "    </tr>\n",
       "    <tr>\n",
       "      <th>...</th>\n",
       "      <td>...</td>\n",
       "      <td>...</td>\n",
       "      <td>...</td>\n",
       "      <td>...</td>\n",
       "      <td>...</td>\n",
       "      <td>...</td>\n",
       "      <td>...</td>\n",
       "      <td>...</td>\n",
       "      <td>...</td>\n",
       "      <td>...</td>\n",
       "      <td>...</td>\n",
       "      <td>...</td>\n",
       "      <td>...</td>\n",
       "      <td>...</td>\n",
       "      <td>...</td>\n",
       "      <td>...</td>\n",
       "      <td>...</td>\n",
       "      <td>...</td>\n",
       "      <td>...</td>\n",
       "      <td>...</td>\n",
       "      <td>...</td>\n",
       "    </tr>\n",
       "    <tr>\n",
       "      <th>32643</th>\n",
       "      <td>0.0</td>\n",
       "      <td>0.0</td>\n",
       "      <td>1.0</td>\n",
       "      <td>0.0</td>\n",
       "      <td>0.0</td>\n",
       "      <td>0.0</td>\n",
       "      <td>0.0</td>\n",
       "      <td>0.0</td>\n",
       "      <td>0.0</td>\n",
       "      <td>0.0</td>\n",
       "      <td>...</td>\n",
       "      <td>0.0</td>\n",
       "      <td>0.0</td>\n",
       "      <td>0.0</td>\n",
       "      <td>0.0</td>\n",
       "      <td>0.0</td>\n",
       "      <td>0.0</td>\n",
       "      <td>0.0</td>\n",
       "      <td>22000.0</td>\n",
       "      <td>4.0</td>\n",
       "      <td>100.0</td>\n",
       "    </tr>\n",
       "    <tr>\n",
       "      <th>32644</th>\n",
       "      <td>0.0</td>\n",
       "      <td>0.0</td>\n",
       "      <td>0.0</td>\n",
       "      <td>0.0</td>\n",
       "      <td>0.0</td>\n",
       "      <td>0.0</td>\n",
       "      <td>0.0</td>\n",
       "      <td>0.0</td>\n",
       "      <td>0.0</td>\n",
       "      <td>1.0</td>\n",
       "      <td>...</td>\n",
       "      <td>0.0</td>\n",
       "      <td>0.0</td>\n",
       "      <td>0.0</td>\n",
       "      <td>1.0</td>\n",
       "      <td>0.0</td>\n",
       "      <td>0.0</td>\n",
       "      <td>0.0</td>\n",
       "      <td>6639.0</td>\n",
       "      <td>9.0</td>\n",
       "      <td>180.0</td>\n",
       "    </tr>\n",
       "    <tr>\n",
       "      <th>32645</th>\n",
       "      <td>0.0</td>\n",
       "      <td>0.0</td>\n",
       "      <td>1.0</td>\n",
       "      <td>0.0</td>\n",
       "      <td>0.0</td>\n",
       "      <td>0.0</td>\n",
       "      <td>0.0</td>\n",
       "      <td>0.0</td>\n",
       "      <td>0.0</td>\n",
       "      <td>0.0</td>\n",
       "      <td>...</td>\n",
       "      <td>0.0</td>\n",
       "      <td>0.0</td>\n",
       "      <td>0.0</td>\n",
       "      <td>0.0</td>\n",
       "      <td>0.0</td>\n",
       "      <td>0.0</td>\n",
       "      <td>0.0</td>\n",
       "      <td>20373.0</td>\n",
       "      <td>6.0</td>\n",
       "      <td>220.0</td>\n",
       "    </tr>\n",
       "    <tr>\n",
       "      <th>32646</th>\n",
       "      <td>0.0</td>\n",
       "      <td>0.0</td>\n",
       "      <td>0.0</td>\n",
       "      <td>0.0</td>\n",
       "      <td>0.0</td>\n",
       "      <td>1.0</td>\n",
       "      <td>0.0</td>\n",
       "      <td>0.0</td>\n",
       "      <td>0.0</td>\n",
       "      <td>0.0</td>\n",
       "      <td>...</td>\n",
       "      <td>0.0</td>\n",
       "      <td>0.0</td>\n",
       "      <td>0.0</td>\n",
       "      <td>0.0</td>\n",
       "      <td>0.0</td>\n",
       "      <td>0.0</td>\n",
       "      <td>0.0</td>\n",
       "      <td>84186.0</td>\n",
       "      <td>16.0</td>\n",
       "      <td>125.0</td>\n",
       "    </tr>\n",
       "    <tr>\n",
       "      <th>32647</th>\n",
       "      <td>0.0</td>\n",
       "      <td>0.0</td>\n",
       "      <td>0.0</td>\n",
       "      <td>0.0</td>\n",
       "      <td>0.0</td>\n",
       "      <td>0.0</td>\n",
       "      <td>0.0</td>\n",
       "      <td>0.0</td>\n",
       "      <td>1.0</td>\n",
       "      <td>0.0</td>\n",
       "      <td>...</td>\n",
       "      <td>0.0</td>\n",
       "      <td>0.0</td>\n",
       "      <td>0.0</td>\n",
       "      <td>0.0</td>\n",
       "      <td>0.0</td>\n",
       "      <td>0.0</td>\n",
       "      <td>0.0</td>\n",
       "      <td>60857.0</td>\n",
       "      <td>13.0</td>\n",
       "      <td>150.0</td>\n",
       "    </tr>\n",
       "  </tbody>\n",
       "</table>\n",
       "<p>32648 rows × 34 columns</p>\n",
       "</div>"
      ],
      "text/plain": [
       "       ohe__city_Bangalore  ohe__city_Chennai  ohe__city_Delhi  \\\n",
       "0                      0.0                0.0              0.0   \n",
       "1                      0.0                0.0              1.0   \n",
       "2                      0.0                0.0              1.0   \n",
       "3                      1.0                0.0              0.0   \n",
       "4                      1.0                0.0              0.0   \n",
       "...                    ...                ...              ...   \n",
       "32643                  0.0                0.0              1.0   \n",
       "32644                  0.0                0.0              0.0   \n",
       "32645                  0.0                0.0              1.0   \n",
       "32646                  0.0                0.0              0.0   \n",
       "32647                  0.0                0.0              0.0   \n",
       "\n",
       "       ohe__city_Ghaziabad  ohe__city_Hyderabad  ohe__city_Jaipur  \\\n",
       "0                      0.0                  0.0               0.0   \n",
       "1                      0.0                  0.0               0.0   \n",
       "2                      0.0                  0.0               0.0   \n",
       "3                      0.0                  0.0               0.0   \n",
       "4                      0.0                  0.0               0.0   \n",
       "...                    ...                  ...               ...   \n",
       "32643                  0.0                  0.0               0.0   \n",
       "32644                  0.0                  0.0               0.0   \n",
       "32645                  0.0                  0.0               0.0   \n",
       "32646                  0.0                  0.0               1.0   \n",
       "32647                  0.0                  0.0               0.0   \n",
       "\n",
       "       ohe__city_Lucknow  ohe__city_Mumbai  ohe__city_Pune  \\\n",
       "0                    0.0               0.0             0.0   \n",
       "1                    0.0               0.0             0.0   \n",
       "2                    0.0               0.0             0.0   \n",
       "3                    0.0               0.0             0.0   \n",
       "4                    0.0               0.0             0.0   \n",
       "...                  ...               ...             ...   \n",
       "32643                0.0               0.0             0.0   \n",
       "32644                0.0               0.0             0.0   \n",
       "32645                0.0               0.0             0.0   \n",
       "32646                0.0               0.0             0.0   \n",
       "32647                0.0               0.0             1.0   \n",
       "\n",
       "       ohe__city_Uncommon  ...  ohe__brand_Kawasaki  ohe__brand_Royal Enfield  \\\n",
       "0                     0.0  ...                  0.0                       0.0   \n",
       "1                     0.0  ...                  0.0                       1.0   \n",
       "2                     0.0  ...                  0.0                       0.0   \n",
       "3                     0.0  ...                  0.0                       0.0   \n",
       "4                     0.0  ...                  0.0                       0.0   \n",
       "...                   ...  ...                  ...                       ...   \n",
       "32643                 0.0  ...                  0.0                       0.0   \n",
       "32644                 1.0  ...                  0.0                       0.0   \n",
       "32645                 0.0  ...                  0.0                       0.0   \n",
       "32646                 0.0  ...                  0.0                       0.0   \n",
       "32647                 0.0  ...                  0.0                       0.0   \n",
       "\n",
       "       ohe__brand_Suzuki  ohe__brand_TVS  ohe__brand_Uncommon  \\\n",
       "0                    0.0             1.0                  0.0   \n",
       "1                    0.0             0.0                  0.0   \n",
       "2                    0.0             0.0                  1.0   \n",
       "3                    0.0             1.0                  0.0   \n",
       "4                    0.0             0.0                  0.0   \n",
       "...                  ...             ...                  ...   \n",
       "32643                0.0             0.0                  0.0   \n",
       "32644                0.0             1.0                  0.0   \n",
       "32645                0.0             0.0                  0.0   \n",
       "32646                0.0             0.0                  0.0   \n",
       "32647                0.0             0.0                  0.0   \n",
       "\n",
       "       ohe__brand_Yamaha  oe__owner  remainder__kms_driven  remainder__age  \\\n",
       "0                    0.0        0.0                17654.0             3.0   \n",
       "1                    0.0        0.0                11000.0             4.0   \n",
       "2                    0.0        0.0                  110.0             8.0   \n",
       "3                    0.0        0.0                16329.0             4.0   \n",
       "4                    1.0        0.0                10000.0             3.0   \n",
       "...                  ...        ...                    ...             ...   \n",
       "32643                0.0        0.0                22000.0             4.0   \n",
       "32644                0.0        0.0                 6639.0             9.0   \n",
       "32645                0.0        0.0                20373.0             6.0   \n",
       "32646                0.0        0.0                84186.0            16.0   \n",
       "32647                0.0        0.0                60857.0            13.0   \n",
       "\n",
       "       remainder__power  \n",
       "0                 110.0  \n",
       "1                 350.0  \n",
       "2                 675.0  \n",
       "3                 180.0  \n",
       "4                 150.0  \n",
       "...                 ...  \n",
       "32643             100.0  \n",
       "32644             180.0  \n",
       "32645             220.0  \n",
       "32646             125.0  \n",
       "32647             150.0  \n",
       "\n",
       "[32648 rows x 34 columns]"
      ]
     },
     "execution_count": 15,
     "metadata": {},
     "output_type": "execute_result"
    }
   ],
   "source": [
    "def top_ten_encode(df):\n",
    "    top_10=df.value_counts().sort_values(ascending=False).head(10).index.to_list()\n",
    "    df.loc[df.isin (top_10)==False]=\"Uncommon\"\n",
    "    return df\n",
    "    \n",
    "\n",
    "\n",
    "for feature in [\"city\",\"bike_name\",\"brand\"]:\n",
    "    top_ten_encode(x[feature])\n",
    "    \n",
    "ohe=OneHotEncoder(drop=\"first\",sparse=False,dtype=\"int\")   #only two things\n",
    "oe=OrdinalEncoder(categories=[[\"First Owner\",\"Second Owner\",\"Third Owner\",\"Fourth Owner Or More\"]],dtype=\"int\")\n",
    "transformer=ColumnTransformer(transformers=[(\"ohe\",ohe,[\"city\",\"bike_name\",\"brand\"]),(\"oe\",oe,[\"owner\"])],remainder=\"passthrough\")  #passthrough inside quotes\n",
    "new_array=transformer.fit_transform(x)\n",
    "new_x=pd.DataFrame(new_array)\n",
    "\n",
    "new_x.columns=transformer.get_feature_names_out()\n",
    "new_x"
   ]
  },
  {
   "cell_type": "code",
   "execution_count": 16,
   "id": "77169259",
   "metadata": {},
   "outputs": [],
   "source": [
    "x_train,x_test,y_train,y_test=train_test_split(new_x,y,test_size=.2,random_state=4)"
   ]
  },
  {
   "cell_type": "code",
   "execution_count": 17,
   "id": "f42a1bfc",
   "metadata": {},
   "outputs": [
    {
     "data": {
      "text/html": [
       "<style>#sk-container-id-1 {color: black;background-color: white;}#sk-container-id-1 pre{padding: 0;}#sk-container-id-1 div.sk-toggleable {background-color: white;}#sk-container-id-1 label.sk-toggleable__label {cursor: pointer;display: block;width: 100%;margin-bottom: 0;padding: 0.3em;box-sizing: border-box;text-align: center;}#sk-container-id-1 label.sk-toggleable__label-arrow:before {content: \"▸\";float: left;margin-right: 0.25em;color: #696969;}#sk-container-id-1 label.sk-toggleable__label-arrow:hover:before {color: black;}#sk-container-id-1 div.sk-estimator:hover label.sk-toggleable__label-arrow:before {color: black;}#sk-container-id-1 div.sk-toggleable__content {max-height: 0;max-width: 0;overflow: hidden;text-align: left;background-color: #f0f8ff;}#sk-container-id-1 div.sk-toggleable__content pre {margin: 0.2em;color: black;border-radius: 0.25em;background-color: #f0f8ff;}#sk-container-id-1 input.sk-toggleable__control:checked~div.sk-toggleable__content {max-height: 200px;max-width: 100%;overflow: auto;}#sk-container-id-1 input.sk-toggleable__control:checked~label.sk-toggleable__label-arrow:before {content: \"▾\";}#sk-container-id-1 div.sk-estimator input.sk-toggleable__control:checked~label.sk-toggleable__label {background-color: #d4ebff;}#sk-container-id-1 div.sk-label input.sk-toggleable__control:checked~label.sk-toggleable__label {background-color: #d4ebff;}#sk-container-id-1 input.sk-hidden--visually {border: 0;clip: rect(1px 1px 1px 1px);clip: rect(1px, 1px, 1px, 1px);height: 1px;margin: -1px;overflow: hidden;padding: 0;position: absolute;width: 1px;}#sk-container-id-1 div.sk-estimator {font-family: monospace;background-color: #f0f8ff;border: 1px dotted black;border-radius: 0.25em;box-sizing: border-box;margin-bottom: 0.5em;}#sk-container-id-1 div.sk-estimator:hover {background-color: #d4ebff;}#sk-container-id-1 div.sk-parallel-item::after {content: \"\";width: 100%;border-bottom: 1px solid gray;flex-grow: 1;}#sk-container-id-1 div.sk-label:hover label.sk-toggleable__label {background-color: #d4ebff;}#sk-container-id-1 div.sk-serial::before {content: \"\";position: absolute;border-left: 1px solid gray;box-sizing: border-box;top: 0;bottom: 0;left: 50%;z-index: 0;}#sk-container-id-1 div.sk-serial {display: flex;flex-direction: column;align-items: center;background-color: white;padding-right: 0.2em;padding-left: 0.2em;position: relative;}#sk-container-id-1 div.sk-item {position: relative;z-index: 1;}#sk-container-id-1 div.sk-parallel {display: flex;align-items: stretch;justify-content: center;background-color: white;position: relative;}#sk-container-id-1 div.sk-item::before, #sk-container-id-1 div.sk-parallel-item::before {content: \"\";position: absolute;border-left: 1px solid gray;box-sizing: border-box;top: 0;bottom: 0;left: 50%;z-index: -1;}#sk-container-id-1 div.sk-parallel-item {display: flex;flex-direction: column;z-index: 1;position: relative;background-color: white;}#sk-container-id-1 div.sk-parallel-item:first-child::after {align-self: flex-end;width: 50%;}#sk-container-id-1 div.sk-parallel-item:last-child::after {align-self: flex-start;width: 50%;}#sk-container-id-1 div.sk-parallel-item:only-child::after {width: 0;}#sk-container-id-1 div.sk-dashed-wrapped {border: 1px dashed gray;margin: 0 0.4em 0.5em 0.4em;box-sizing: border-box;padding-bottom: 0.4em;background-color: white;}#sk-container-id-1 div.sk-label label {font-family: monospace;font-weight: bold;display: inline-block;line-height: 1.2em;}#sk-container-id-1 div.sk-label-container {text-align: center;}#sk-container-id-1 div.sk-container {/* jupyter's `normalize.less` sets `[hidden] { display: none; }` but bootstrap.min.css set `[hidden] { display: none !important; }` so we also need the `!important` here to be able to override the default hidden behavior on the sphinx rendered scikit-learn.org. See: https://github.com/scikit-learn/scikit-learn/issues/21755 */display: inline-block !important;position: relative;}#sk-container-id-1 div.sk-text-repr-fallback {display: none;}</style><div id=\"sk-container-id-1\" class=\"sk-top-container\"><div class=\"sk-text-repr-fallback\"><pre>LinearRegression()</pre><b>In a Jupyter environment, please rerun this cell to show the HTML representation or trust the notebook. <br />On GitHub, the HTML representation is unable to render, please try loading this page with nbviewer.org.</b></div><div class=\"sk-container\" hidden><div class=\"sk-item\"><div class=\"sk-estimator sk-toggleable\"><input class=\"sk-toggleable__control sk-hidden--visually\" id=\"sk-estimator-id-1\" type=\"checkbox\" checked><label for=\"sk-estimator-id-1\" class=\"sk-toggleable__label sk-toggleable__label-arrow\">LinearRegression</label><div class=\"sk-toggleable__content\"><pre>LinearRegression()</pre></div></div></div></div></div>"
      ],
      "text/plain": [
       "LinearRegression()"
      ]
     },
     "execution_count": 17,
     "metadata": {},
     "output_type": "execute_result"
    }
   ],
   "source": [
    "lin_reg=LinearRegression()\n",
    "lin_reg.fit(x_train,y_train)"
   ]
  },
  {
   "cell_type": "code",
   "execution_count": 18,
   "id": "9b678e82",
   "metadata": {},
   "outputs": [
    {
     "data": {
      "text/plain": [
       "0.890538244757788"
      ]
     },
     "execution_count": 18,
     "metadata": {},
     "output_type": "execute_result"
    }
   ],
   "source": [
    "lin_reg.score(x_train,y_train)"
   ]
  },
  {
   "cell_type": "code",
   "execution_count": 19,
   "id": "1086ce6a",
   "metadata": {},
   "outputs": [
    {
     "data": {
      "text/plain": [
       "0.8813696545694797"
      ]
     },
     "execution_count": 19,
     "metadata": {},
     "output_type": "execute_result"
    }
   ],
   "source": [
    "lin_reg.score(x_test,y_test)"
   ]
  },
  {
   "cell_type": "code",
   "execution_count": 20,
   "id": "cbffdc36",
   "metadata": {},
   "outputs": [],
   "source": [
    "def training_results(x_train,y_train,model):\n",
    "        y_pred_train=model.predict(x_train)\n",
    "        mse_train=mean_squared_error(y_train,y_pred_train)\n",
    "        mae_train=mean_absolute_error(y_train,y_pred_train)\n",
    "        rmse_train=np.sqrt(mse_train)\n",
    "        r2_score_train=r2_score(y_train,y_pred_train)\n",
    "        print(f\"{mse_train=}\\n{mae_train=}\\n{rmse_train=}\\n{r2_score_train=}\")\n",
    "        \n",
    "def testing_results(x_test,y_test,model):\n",
    "        y_pred_test=model.predict(x_test)\n",
    "        mse_test=mean_squared_error(y_test,y_pred_test)\n",
    "        mae_test=mean_absolute_error(y_test,y_pred_test)\n",
    "        rmse_test=np.sqrt(mse_test)\n",
    "        r2_score_test=r2_score(y_test,y_pred_test)\n",
    "        print(f\"{mse_test=}\\n{mae_test=}\\n{rmse_test=}\\n{r2_score_test=}\")"
   ]
  },
  {
   "cell_type": "code",
   "execution_count": 21,
   "id": "5422524d",
   "metadata": {},
   "outputs": [
    {
     "name": "stdout",
     "output_type": "stream",
     "text": [
      "mse_train=908506851.41072\n",
      "mae_train=12397.645671333943\n",
      "rmse_train=30141.4474007258\n",
      "r2_score_train=0.890538244757788\n"
     ]
    }
   ],
   "source": [
    "training_results(x_train,y_train,lin_reg)"
   ]
  },
  {
   "cell_type": "code",
   "execution_count": 22,
   "id": "a2474f88",
   "metadata": {},
   "outputs": [
    {
     "name": "stdout",
     "output_type": "stream",
     "text": [
      "mse_test=942994770.2125176\n",
      "mae_test=12367.964867904922\n",
      "rmse_test=30708.219912793993\n",
      "r2_score_test=0.8813696545694797\n"
     ]
    }
   ],
   "source": [
    "testing_results(x_test,y_test,lin_reg)"
   ]
  },
  {
   "cell_type": "code",
   "execution_count": 23,
   "id": "99078d8d",
   "metadata": {},
   "outputs": [],
   "source": [
    "#knn "
   ]
  },
  {
   "cell_type": "code",
   "execution_count": 24,
   "id": "7a2bc84b",
   "metadata": {},
   "outputs": [],
   "source": [
    "std_scaler=StandardScaler()"
   ]
  },
  {
   "cell_type": "code",
   "execution_count": 25,
   "id": "cd1e2b6c",
   "metadata": {},
   "outputs": [],
   "source": [
    "knn_reg=KNeighborsRegressor()"
   ]
  },
  {
   "cell_type": "code",
   "execution_count": 26,
   "id": "c1cdd301",
   "metadata": {},
   "outputs": [
    {
     "data": {
      "text/html": [
       "<style>#sk-container-id-2 {color: black;background-color: white;}#sk-container-id-2 pre{padding: 0;}#sk-container-id-2 div.sk-toggleable {background-color: white;}#sk-container-id-2 label.sk-toggleable__label {cursor: pointer;display: block;width: 100%;margin-bottom: 0;padding: 0.3em;box-sizing: border-box;text-align: center;}#sk-container-id-2 label.sk-toggleable__label-arrow:before {content: \"▸\";float: left;margin-right: 0.25em;color: #696969;}#sk-container-id-2 label.sk-toggleable__label-arrow:hover:before {color: black;}#sk-container-id-2 div.sk-estimator:hover label.sk-toggleable__label-arrow:before {color: black;}#sk-container-id-2 div.sk-toggleable__content {max-height: 0;max-width: 0;overflow: hidden;text-align: left;background-color: #f0f8ff;}#sk-container-id-2 div.sk-toggleable__content pre {margin: 0.2em;color: black;border-radius: 0.25em;background-color: #f0f8ff;}#sk-container-id-2 input.sk-toggleable__control:checked~div.sk-toggleable__content {max-height: 200px;max-width: 100%;overflow: auto;}#sk-container-id-2 input.sk-toggleable__control:checked~label.sk-toggleable__label-arrow:before {content: \"▾\";}#sk-container-id-2 div.sk-estimator input.sk-toggleable__control:checked~label.sk-toggleable__label {background-color: #d4ebff;}#sk-container-id-2 div.sk-label input.sk-toggleable__control:checked~label.sk-toggleable__label {background-color: #d4ebff;}#sk-container-id-2 input.sk-hidden--visually {border: 0;clip: rect(1px 1px 1px 1px);clip: rect(1px, 1px, 1px, 1px);height: 1px;margin: -1px;overflow: hidden;padding: 0;position: absolute;width: 1px;}#sk-container-id-2 div.sk-estimator {font-family: monospace;background-color: #f0f8ff;border: 1px dotted black;border-radius: 0.25em;box-sizing: border-box;margin-bottom: 0.5em;}#sk-container-id-2 div.sk-estimator:hover {background-color: #d4ebff;}#sk-container-id-2 div.sk-parallel-item::after {content: \"\";width: 100%;border-bottom: 1px solid gray;flex-grow: 1;}#sk-container-id-2 div.sk-label:hover label.sk-toggleable__label {background-color: #d4ebff;}#sk-container-id-2 div.sk-serial::before {content: \"\";position: absolute;border-left: 1px solid gray;box-sizing: border-box;top: 0;bottom: 0;left: 50%;z-index: 0;}#sk-container-id-2 div.sk-serial {display: flex;flex-direction: column;align-items: center;background-color: white;padding-right: 0.2em;padding-left: 0.2em;position: relative;}#sk-container-id-2 div.sk-item {position: relative;z-index: 1;}#sk-container-id-2 div.sk-parallel {display: flex;align-items: stretch;justify-content: center;background-color: white;position: relative;}#sk-container-id-2 div.sk-item::before, #sk-container-id-2 div.sk-parallel-item::before {content: \"\";position: absolute;border-left: 1px solid gray;box-sizing: border-box;top: 0;bottom: 0;left: 50%;z-index: -1;}#sk-container-id-2 div.sk-parallel-item {display: flex;flex-direction: column;z-index: 1;position: relative;background-color: white;}#sk-container-id-2 div.sk-parallel-item:first-child::after {align-self: flex-end;width: 50%;}#sk-container-id-2 div.sk-parallel-item:last-child::after {align-self: flex-start;width: 50%;}#sk-container-id-2 div.sk-parallel-item:only-child::after {width: 0;}#sk-container-id-2 div.sk-dashed-wrapped {border: 1px dashed gray;margin: 0 0.4em 0.5em 0.4em;box-sizing: border-box;padding-bottom: 0.4em;background-color: white;}#sk-container-id-2 div.sk-label label {font-family: monospace;font-weight: bold;display: inline-block;line-height: 1.2em;}#sk-container-id-2 div.sk-label-container {text-align: center;}#sk-container-id-2 div.sk-container {/* jupyter's `normalize.less` sets `[hidden] { display: none; }` but bootstrap.min.css set `[hidden] { display: none !important; }` so we also need the `!important` here to be able to override the default hidden behavior on the sphinx rendered scikit-learn.org. See: https://github.com/scikit-learn/scikit-learn/issues/21755 */display: inline-block !important;position: relative;}#sk-container-id-2 div.sk-text-repr-fallback {display: none;}</style><div id=\"sk-container-id-2\" class=\"sk-top-container\"><div class=\"sk-text-repr-fallback\"><pre>KNeighborsRegressor()</pre><b>In a Jupyter environment, please rerun this cell to show the HTML representation or trust the notebook. <br />On GitHub, the HTML representation is unable to render, please try loading this page with nbviewer.org.</b></div><div class=\"sk-container\" hidden><div class=\"sk-item\"><div class=\"sk-estimator sk-toggleable\"><input class=\"sk-toggleable__control sk-hidden--visually\" id=\"sk-estimator-id-2\" type=\"checkbox\" checked><label for=\"sk-estimator-id-2\" class=\"sk-toggleable__label sk-toggleable__label-arrow\">KNeighborsRegressor</label><div class=\"sk-toggleable__content\"><pre>KNeighborsRegressor()</pre></div></div></div></div></div>"
      ],
      "text/plain": [
       "KNeighborsRegressor()"
      ]
     },
     "execution_count": 26,
     "metadata": {},
     "output_type": "execute_result"
    }
   ],
   "source": [
    "knn_reg.fit(x_train,y_train)"
   ]
  },
  {
   "cell_type": "code",
   "execution_count": 27,
   "id": "aa29cec5",
   "metadata": {},
   "outputs": [
    {
     "name": "stdout",
     "output_type": "stream",
     "text": [
      "mse_train=737363009.0477036\n",
      "mae_train=5708.309150777242\n",
      "rmse_train=27154.428902993037\n",
      "r2_score_train=0.91115856848442\n"
     ]
    }
   ],
   "source": [
    "training_results(x_train,y_train,knn_reg)"
   ]
  },
  {
   "cell_type": "code",
   "execution_count": 28,
   "id": "f2cee0d3",
   "metadata": {},
   "outputs": [
    {
     "name": "stdout",
     "output_type": "stream",
     "text": [
      "mse_test=1153980412.2544136\n",
      "mae_test=7136.794578866769\n",
      "rmse_test=33970.28719711409\n",
      "r2_score_test=0.8548273020698263\n"
     ]
    }
   ],
   "source": [
    "testing_results(x_test,y_test,knn_reg)"
   ]
  },
  {
   "cell_type": "code",
   "execution_count": 29,
   "id": "cdd331ac",
   "metadata": {},
   "outputs": [],
   "source": [
    "hyper_parm={\"n_neighbors\":np.arange(2,30),\"p\":[1,2]}\n",
    "\n",
    "randomized_search_knn=RandomizedSearchCV(knn_reg,hyper_parm)"
   ]
  },
  {
   "cell_type": "code",
   "execution_count": 30,
   "id": "8efd9982",
   "metadata": {},
   "outputs": [
    {
     "data": {
      "text/html": [
       "<style>#sk-container-id-3 {color: black;background-color: white;}#sk-container-id-3 pre{padding: 0;}#sk-container-id-3 div.sk-toggleable {background-color: white;}#sk-container-id-3 label.sk-toggleable__label {cursor: pointer;display: block;width: 100%;margin-bottom: 0;padding: 0.3em;box-sizing: border-box;text-align: center;}#sk-container-id-3 label.sk-toggleable__label-arrow:before {content: \"▸\";float: left;margin-right: 0.25em;color: #696969;}#sk-container-id-3 label.sk-toggleable__label-arrow:hover:before {color: black;}#sk-container-id-3 div.sk-estimator:hover label.sk-toggleable__label-arrow:before {color: black;}#sk-container-id-3 div.sk-toggleable__content {max-height: 0;max-width: 0;overflow: hidden;text-align: left;background-color: #f0f8ff;}#sk-container-id-3 div.sk-toggleable__content pre {margin: 0.2em;color: black;border-radius: 0.25em;background-color: #f0f8ff;}#sk-container-id-3 input.sk-toggleable__control:checked~div.sk-toggleable__content {max-height: 200px;max-width: 100%;overflow: auto;}#sk-container-id-3 input.sk-toggleable__control:checked~label.sk-toggleable__label-arrow:before {content: \"▾\";}#sk-container-id-3 div.sk-estimator input.sk-toggleable__control:checked~label.sk-toggleable__label {background-color: #d4ebff;}#sk-container-id-3 div.sk-label input.sk-toggleable__control:checked~label.sk-toggleable__label {background-color: #d4ebff;}#sk-container-id-3 input.sk-hidden--visually {border: 0;clip: rect(1px 1px 1px 1px);clip: rect(1px, 1px, 1px, 1px);height: 1px;margin: -1px;overflow: hidden;padding: 0;position: absolute;width: 1px;}#sk-container-id-3 div.sk-estimator {font-family: monospace;background-color: #f0f8ff;border: 1px dotted black;border-radius: 0.25em;box-sizing: border-box;margin-bottom: 0.5em;}#sk-container-id-3 div.sk-estimator:hover {background-color: #d4ebff;}#sk-container-id-3 div.sk-parallel-item::after {content: \"\";width: 100%;border-bottom: 1px solid gray;flex-grow: 1;}#sk-container-id-3 div.sk-label:hover label.sk-toggleable__label {background-color: #d4ebff;}#sk-container-id-3 div.sk-serial::before {content: \"\";position: absolute;border-left: 1px solid gray;box-sizing: border-box;top: 0;bottom: 0;left: 50%;z-index: 0;}#sk-container-id-3 div.sk-serial {display: flex;flex-direction: column;align-items: center;background-color: white;padding-right: 0.2em;padding-left: 0.2em;position: relative;}#sk-container-id-3 div.sk-item {position: relative;z-index: 1;}#sk-container-id-3 div.sk-parallel {display: flex;align-items: stretch;justify-content: center;background-color: white;position: relative;}#sk-container-id-3 div.sk-item::before, #sk-container-id-3 div.sk-parallel-item::before {content: \"\";position: absolute;border-left: 1px solid gray;box-sizing: border-box;top: 0;bottom: 0;left: 50%;z-index: -1;}#sk-container-id-3 div.sk-parallel-item {display: flex;flex-direction: column;z-index: 1;position: relative;background-color: white;}#sk-container-id-3 div.sk-parallel-item:first-child::after {align-self: flex-end;width: 50%;}#sk-container-id-3 div.sk-parallel-item:last-child::after {align-self: flex-start;width: 50%;}#sk-container-id-3 div.sk-parallel-item:only-child::after {width: 0;}#sk-container-id-3 div.sk-dashed-wrapped {border: 1px dashed gray;margin: 0 0.4em 0.5em 0.4em;box-sizing: border-box;padding-bottom: 0.4em;background-color: white;}#sk-container-id-3 div.sk-label label {font-family: monospace;font-weight: bold;display: inline-block;line-height: 1.2em;}#sk-container-id-3 div.sk-label-container {text-align: center;}#sk-container-id-3 div.sk-container {/* jupyter's `normalize.less` sets `[hidden] { display: none; }` but bootstrap.min.css set `[hidden] { display: none !important; }` so we also need the `!important` here to be able to override the default hidden behavior on the sphinx rendered scikit-learn.org. See: https://github.com/scikit-learn/scikit-learn/issues/21755 */display: inline-block !important;position: relative;}#sk-container-id-3 div.sk-text-repr-fallback {display: none;}</style><div id=\"sk-container-id-3\" class=\"sk-top-container\"><div class=\"sk-text-repr-fallback\"><pre>RandomizedSearchCV(estimator=KNeighborsRegressor(),\n",
       "                   param_distributions={&#x27;n_neighbors&#x27;: array([ 2,  3,  4,  5,  6,  7,  8,  9, 10, 11, 12, 13, 14, 15, 16, 17, 18,\n",
       "       19, 20, 21, 22, 23, 24, 25, 26, 27, 28, 29]),\n",
       "                                        &#x27;p&#x27;: [1, 2]})</pre><b>In a Jupyter environment, please rerun this cell to show the HTML representation or trust the notebook. <br />On GitHub, the HTML representation is unable to render, please try loading this page with nbviewer.org.</b></div><div class=\"sk-container\" hidden><div class=\"sk-item sk-dashed-wrapped\"><div class=\"sk-label-container\"><div class=\"sk-label sk-toggleable\"><input class=\"sk-toggleable__control sk-hidden--visually\" id=\"sk-estimator-id-3\" type=\"checkbox\" ><label for=\"sk-estimator-id-3\" class=\"sk-toggleable__label sk-toggleable__label-arrow\">RandomizedSearchCV</label><div class=\"sk-toggleable__content\"><pre>RandomizedSearchCV(estimator=KNeighborsRegressor(),\n",
       "                   param_distributions={&#x27;n_neighbors&#x27;: array([ 2,  3,  4,  5,  6,  7,  8,  9, 10, 11, 12, 13, 14, 15, 16, 17, 18,\n",
       "       19, 20, 21, 22, 23, 24, 25, 26, 27, 28, 29]),\n",
       "                                        &#x27;p&#x27;: [1, 2]})</pre></div></div></div><div class=\"sk-parallel\"><div class=\"sk-parallel-item\"><div class=\"sk-item\"><div class=\"sk-label-container\"><div class=\"sk-label sk-toggleable\"><input class=\"sk-toggleable__control sk-hidden--visually\" id=\"sk-estimator-id-4\" type=\"checkbox\" ><label for=\"sk-estimator-id-4\" class=\"sk-toggleable__label sk-toggleable__label-arrow\">estimator: KNeighborsRegressor</label><div class=\"sk-toggleable__content\"><pre>KNeighborsRegressor()</pre></div></div></div><div class=\"sk-serial\"><div class=\"sk-item\"><div class=\"sk-estimator sk-toggleable\"><input class=\"sk-toggleable__control sk-hidden--visually\" id=\"sk-estimator-id-5\" type=\"checkbox\" ><label for=\"sk-estimator-id-5\" class=\"sk-toggleable__label sk-toggleable__label-arrow\">KNeighborsRegressor</label><div class=\"sk-toggleable__content\"><pre>KNeighborsRegressor()</pre></div></div></div></div></div></div></div></div></div></div>"
      ],
      "text/plain": [
       "RandomizedSearchCV(estimator=KNeighborsRegressor(),\n",
       "                   param_distributions={'n_neighbors': array([ 2,  3,  4,  5,  6,  7,  8,  9, 10, 11, 12, 13, 14, 15, 16, 17, 18,\n",
       "       19, 20, 21, 22, 23, 24, 25, 26, 27, 28, 29]),\n",
       "                                        'p': [1, 2]})"
      ]
     },
     "execution_count": 30,
     "metadata": {},
     "output_type": "execute_result"
    }
   ],
   "source": [
    "randomized_search_knn.fit(x_train,y_train)"
   ]
  },
  {
   "cell_type": "code",
   "execution_count": 31,
   "id": "c7d093f8",
   "metadata": {},
   "outputs": [],
   "source": [
    "knn_reg_tunned=randomized_search_knn.best_estimator_"
   ]
  },
  {
   "cell_type": "code",
   "execution_count": 32,
   "id": "80cfb38b",
   "metadata": {},
   "outputs": [
    {
     "data": {
      "text/html": [
       "<style>#sk-container-id-4 {color: black;background-color: white;}#sk-container-id-4 pre{padding: 0;}#sk-container-id-4 div.sk-toggleable {background-color: white;}#sk-container-id-4 label.sk-toggleable__label {cursor: pointer;display: block;width: 100%;margin-bottom: 0;padding: 0.3em;box-sizing: border-box;text-align: center;}#sk-container-id-4 label.sk-toggleable__label-arrow:before {content: \"▸\";float: left;margin-right: 0.25em;color: #696969;}#sk-container-id-4 label.sk-toggleable__label-arrow:hover:before {color: black;}#sk-container-id-4 div.sk-estimator:hover label.sk-toggleable__label-arrow:before {color: black;}#sk-container-id-4 div.sk-toggleable__content {max-height: 0;max-width: 0;overflow: hidden;text-align: left;background-color: #f0f8ff;}#sk-container-id-4 div.sk-toggleable__content pre {margin: 0.2em;color: black;border-radius: 0.25em;background-color: #f0f8ff;}#sk-container-id-4 input.sk-toggleable__control:checked~div.sk-toggleable__content {max-height: 200px;max-width: 100%;overflow: auto;}#sk-container-id-4 input.sk-toggleable__control:checked~label.sk-toggleable__label-arrow:before {content: \"▾\";}#sk-container-id-4 div.sk-estimator input.sk-toggleable__control:checked~label.sk-toggleable__label {background-color: #d4ebff;}#sk-container-id-4 div.sk-label input.sk-toggleable__control:checked~label.sk-toggleable__label {background-color: #d4ebff;}#sk-container-id-4 input.sk-hidden--visually {border: 0;clip: rect(1px 1px 1px 1px);clip: rect(1px, 1px, 1px, 1px);height: 1px;margin: -1px;overflow: hidden;padding: 0;position: absolute;width: 1px;}#sk-container-id-4 div.sk-estimator {font-family: monospace;background-color: #f0f8ff;border: 1px dotted black;border-radius: 0.25em;box-sizing: border-box;margin-bottom: 0.5em;}#sk-container-id-4 div.sk-estimator:hover {background-color: #d4ebff;}#sk-container-id-4 div.sk-parallel-item::after {content: \"\";width: 100%;border-bottom: 1px solid gray;flex-grow: 1;}#sk-container-id-4 div.sk-label:hover label.sk-toggleable__label {background-color: #d4ebff;}#sk-container-id-4 div.sk-serial::before {content: \"\";position: absolute;border-left: 1px solid gray;box-sizing: border-box;top: 0;bottom: 0;left: 50%;z-index: 0;}#sk-container-id-4 div.sk-serial {display: flex;flex-direction: column;align-items: center;background-color: white;padding-right: 0.2em;padding-left: 0.2em;position: relative;}#sk-container-id-4 div.sk-item {position: relative;z-index: 1;}#sk-container-id-4 div.sk-parallel {display: flex;align-items: stretch;justify-content: center;background-color: white;position: relative;}#sk-container-id-4 div.sk-item::before, #sk-container-id-4 div.sk-parallel-item::before {content: \"\";position: absolute;border-left: 1px solid gray;box-sizing: border-box;top: 0;bottom: 0;left: 50%;z-index: -1;}#sk-container-id-4 div.sk-parallel-item {display: flex;flex-direction: column;z-index: 1;position: relative;background-color: white;}#sk-container-id-4 div.sk-parallel-item:first-child::after {align-self: flex-end;width: 50%;}#sk-container-id-4 div.sk-parallel-item:last-child::after {align-self: flex-start;width: 50%;}#sk-container-id-4 div.sk-parallel-item:only-child::after {width: 0;}#sk-container-id-4 div.sk-dashed-wrapped {border: 1px dashed gray;margin: 0 0.4em 0.5em 0.4em;box-sizing: border-box;padding-bottom: 0.4em;background-color: white;}#sk-container-id-4 div.sk-label label {font-family: monospace;font-weight: bold;display: inline-block;line-height: 1.2em;}#sk-container-id-4 div.sk-label-container {text-align: center;}#sk-container-id-4 div.sk-container {/* jupyter's `normalize.less` sets `[hidden] { display: none; }` but bootstrap.min.css set `[hidden] { display: none !important; }` so we also need the `!important` here to be able to override the default hidden behavior on the sphinx rendered scikit-learn.org. See: https://github.com/scikit-learn/scikit-learn/issues/21755 */display: inline-block !important;position: relative;}#sk-container-id-4 div.sk-text-repr-fallback {display: none;}</style><div id=\"sk-container-id-4\" class=\"sk-top-container\"><div class=\"sk-text-repr-fallback\"><pre>KNeighborsRegressor(n_neighbors=10)</pre><b>In a Jupyter environment, please rerun this cell to show the HTML representation or trust the notebook. <br />On GitHub, the HTML representation is unable to render, please try loading this page with nbviewer.org.</b></div><div class=\"sk-container\" hidden><div class=\"sk-item\"><div class=\"sk-estimator sk-toggleable\"><input class=\"sk-toggleable__control sk-hidden--visually\" id=\"sk-estimator-id-6\" type=\"checkbox\" checked><label for=\"sk-estimator-id-6\" class=\"sk-toggleable__label sk-toggleable__label-arrow\">KNeighborsRegressor</label><div class=\"sk-toggleable__content\"><pre>KNeighborsRegressor(n_neighbors=10)</pre></div></div></div></div></div>"
      ],
      "text/plain": [
       "KNeighborsRegressor(n_neighbors=10)"
      ]
     },
     "execution_count": 32,
     "metadata": {},
     "output_type": "execute_result"
    }
   ],
   "source": [
    "knn_reg_tunned.fit(x_train,y_train)"
   ]
  },
  {
   "cell_type": "code",
   "execution_count": 33,
   "id": "437f19e8",
   "metadata": {},
   "outputs": [
    {
     "name": "stdout",
     "output_type": "stream",
     "text": [
      "mse_train=1056122551.1200697\n",
      "mae_train=6860.212818745693\n",
      "rmse_train=32498.039188850606\n",
      "r2_score_train=0.8727527172558188\n"
     ]
    }
   ],
   "source": [
    "training_results(x_train,y_train,knn_reg_tunned)"
   ]
  },
  {
   "cell_type": "code",
   "execution_count": 34,
   "id": "8fd5e6a7",
   "metadata": {},
   "outputs": [
    {
     "name": "stdout",
     "output_type": "stream",
     "text": [
      "mse_test=1297559193.9712343\n",
      "mae_test=7491.376692189892\n",
      "rmse_test=36021.64896241196\n",
      "r2_score_test=0.8367648472083629\n"
     ]
    }
   ],
   "source": [
    "testing_results(x_test,y_test,knn_reg_tunned)"
   ]
  },
  {
   "cell_type": "code",
   "execution_count": 35,
   "id": "73e5db62",
   "metadata": {},
   "outputs": [],
   "source": [
    "# dt_reg=DecisionTreeRegressor(random_state=6)\n",
    "# dt_reg.fit(x_train,y_train)\n",
    "# hyper_parm_dt={\"criterion\":[\"squared_error\",\"absolute_error\"],\n",
    "#                 \"max_depth\":[2,3,4],\n",
    "#                \"min_samples_split\":[2,3,4],\n",
    "#                \"min_samples_leaf\":[5,6,7],\n",
    "#                \"random_state\":[5]\n",
    "    \n",
    "# }"
   ]
  },
  {
   "cell_type": "code",
   "execution_count": 36,
   "id": "c55ee628",
   "metadata": {},
   "outputs": [],
   "source": [
    "# randomized_search_dt=RandomizedSearchCV(dt_reg,hyper_parm_dt,n_jobs=-1)"
   ]
  },
  {
   "cell_type": "code",
   "execution_count": 37,
   "id": "f56a352f",
   "metadata": {},
   "outputs": [],
   "source": [
    "# randomized_search_dt.fit(x_train,y_train)"
   ]
  },
  {
   "cell_type": "code",
   "execution_count": 38,
   "id": "a51754c5",
   "metadata": {},
   "outputs": [
    {
     "data": {
      "text/html": [
       "<style>#sk-container-id-5 {color: black;background-color: white;}#sk-container-id-5 pre{padding: 0;}#sk-container-id-5 div.sk-toggleable {background-color: white;}#sk-container-id-5 label.sk-toggleable__label {cursor: pointer;display: block;width: 100%;margin-bottom: 0;padding: 0.3em;box-sizing: border-box;text-align: center;}#sk-container-id-5 label.sk-toggleable__label-arrow:before {content: \"▸\";float: left;margin-right: 0.25em;color: #696969;}#sk-container-id-5 label.sk-toggleable__label-arrow:hover:before {color: black;}#sk-container-id-5 div.sk-estimator:hover label.sk-toggleable__label-arrow:before {color: black;}#sk-container-id-5 div.sk-toggleable__content {max-height: 0;max-width: 0;overflow: hidden;text-align: left;background-color: #f0f8ff;}#sk-container-id-5 div.sk-toggleable__content pre {margin: 0.2em;color: black;border-radius: 0.25em;background-color: #f0f8ff;}#sk-container-id-5 input.sk-toggleable__control:checked~div.sk-toggleable__content {max-height: 200px;max-width: 100%;overflow: auto;}#sk-container-id-5 input.sk-toggleable__control:checked~label.sk-toggleable__label-arrow:before {content: \"▾\";}#sk-container-id-5 div.sk-estimator input.sk-toggleable__control:checked~label.sk-toggleable__label {background-color: #d4ebff;}#sk-container-id-5 div.sk-label input.sk-toggleable__control:checked~label.sk-toggleable__label {background-color: #d4ebff;}#sk-container-id-5 input.sk-hidden--visually {border: 0;clip: rect(1px 1px 1px 1px);clip: rect(1px, 1px, 1px, 1px);height: 1px;margin: -1px;overflow: hidden;padding: 0;position: absolute;width: 1px;}#sk-container-id-5 div.sk-estimator {font-family: monospace;background-color: #f0f8ff;border: 1px dotted black;border-radius: 0.25em;box-sizing: border-box;margin-bottom: 0.5em;}#sk-container-id-5 div.sk-estimator:hover {background-color: #d4ebff;}#sk-container-id-5 div.sk-parallel-item::after {content: \"\";width: 100%;border-bottom: 1px solid gray;flex-grow: 1;}#sk-container-id-5 div.sk-label:hover label.sk-toggleable__label {background-color: #d4ebff;}#sk-container-id-5 div.sk-serial::before {content: \"\";position: absolute;border-left: 1px solid gray;box-sizing: border-box;top: 0;bottom: 0;left: 50%;z-index: 0;}#sk-container-id-5 div.sk-serial {display: flex;flex-direction: column;align-items: center;background-color: white;padding-right: 0.2em;padding-left: 0.2em;position: relative;}#sk-container-id-5 div.sk-item {position: relative;z-index: 1;}#sk-container-id-5 div.sk-parallel {display: flex;align-items: stretch;justify-content: center;background-color: white;position: relative;}#sk-container-id-5 div.sk-item::before, #sk-container-id-5 div.sk-parallel-item::before {content: \"\";position: absolute;border-left: 1px solid gray;box-sizing: border-box;top: 0;bottom: 0;left: 50%;z-index: -1;}#sk-container-id-5 div.sk-parallel-item {display: flex;flex-direction: column;z-index: 1;position: relative;background-color: white;}#sk-container-id-5 div.sk-parallel-item:first-child::after {align-self: flex-end;width: 50%;}#sk-container-id-5 div.sk-parallel-item:last-child::after {align-self: flex-start;width: 50%;}#sk-container-id-5 div.sk-parallel-item:only-child::after {width: 0;}#sk-container-id-5 div.sk-dashed-wrapped {border: 1px dashed gray;margin: 0 0.4em 0.5em 0.4em;box-sizing: border-box;padding-bottom: 0.4em;background-color: white;}#sk-container-id-5 div.sk-label label {font-family: monospace;font-weight: bold;display: inline-block;line-height: 1.2em;}#sk-container-id-5 div.sk-label-container {text-align: center;}#sk-container-id-5 div.sk-container {/* jupyter's `normalize.less` sets `[hidden] { display: none; }` but bootstrap.min.css set `[hidden] { display: none !important; }` so we also need the `!important` here to be able to override the default hidden behavior on the sphinx rendered scikit-learn.org. See: https://github.com/scikit-learn/scikit-learn/issues/21755 */display: inline-block !important;position: relative;}#sk-container-id-5 div.sk-text-repr-fallback {display: none;}</style><div id=\"sk-container-id-5\" class=\"sk-top-container\"><div class=\"sk-text-repr-fallback\"><pre>RandomForestRegressor(random_state=5)</pre><b>In a Jupyter environment, please rerun this cell to show the HTML representation or trust the notebook. <br />On GitHub, the HTML representation is unable to render, please try loading this page with nbviewer.org.</b></div><div class=\"sk-container\" hidden><div class=\"sk-item\"><div class=\"sk-estimator sk-toggleable\"><input class=\"sk-toggleable__control sk-hidden--visually\" id=\"sk-estimator-id-7\" type=\"checkbox\" checked><label for=\"sk-estimator-id-7\" class=\"sk-toggleable__label sk-toggleable__label-arrow\">RandomForestRegressor</label><div class=\"sk-toggleable__content\"><pre>RandomForestRegressor(random_state=5)</pre></div></div></div></div></div>"
      ],
      "text/plain": [
       "RandomForestRegressor(random_state=5)"
      ]
     },
     "execution_count": 38,
     "metadata": {},
     "output_type": "execute_result"
    }
   ],
   "source": [
    "random_forest_reg=RandomForestRegressor(random_state=5)\n",
    "random_forest_reg.fit(x_train,y_train)\n",
    "# hyper_param_rf={\"criterion\":[\"squared_error\",\"absolute_error\"],\n",
    "#                 \"max_depth\":np.arange(2,7),\n",
    "#                \"min_samples_split\":np.arange(4,10),\n",
    "#                \"min_samples_leaf\":np.arange(4,8),\n",
    "#                 \"random_state\":[5],\n",
    "#                 \"n_estimators\":np.arange(30,150,10),\n",
    "#                }"
   ]
  },
  {
   "cell_type": "code",
   "execution_count": 39,
   "id": "bf9fc951",
   "metadata": {},
   "outputs": [],
   "source": [
    "# randomized_search_rf=RandomizedSearchCV(random_forest_reg,hyper_param_rf)\n",
    "# randomized_search_rf.fit(x_train,y_train)"
   ]
  },
  {
   "cell_type": "code",
   "execution_count": 40,
   "id": "051e062e",
   "metadata": {},
   "outputs": [
    {
     "data": {
      "text/plain": [
       "0.993069240794693"
      ]
     },
     "execution_count": 40,
     "metadata": {},
     "output_type": "execute_result"
    }
   ],
   "source": [
    "random_forest_reg.score(x_train,y_train)"
   ]
  },
  {
   "cell_type": "code",
   "execution_count": 41,
   "id": "4682af10",
   "metadata": {},
   "outputs": [
    {
     "data": {
      "text/plain": [
       "0.9515221074775344"
      ]
     },
     "execution_count": 41,
     "metadata": {},
     "output_type": "execute_result"
    }
   ],
   "source": [
    "random_forest_reg.score(x_test,y_test)"
   ]
  },
  {
   "cell_type": "code",
   "execution_count": 42,
   "id": "9f32655c",
   "metadata": {},
   "outputs": [
    {
     "name": "stdout",
     "output_type": "stream",
     "text": [
      "mse_train=57523673.08167419\n",
      "mae_train=1244.9909894733769\n",
      "rmse_train=7584.436240200994\n",
      "r2_score_train=0.993069240794693\n"
     ]
    }
   ],
   "source": [
    "training_results(x_train,y_train,random_forest_reg)"
   ]
  },
  {
   "cell_type": "code",
   "execution_count": 43,
   "id": "d4b9af17",
   "metadata": {},
   "outputs": [
    {
     "name": "stdout",
     "output_type": "stream",
     "text": [
      "mse_test=385351648.0434064\n",
      "mae_test=3033.5589295945124\n",
      "rmse_test=19630.375647027402\n",
      "r2_score_test=0.9515221074775344\n"
     ]
    }
   ],
   "source": [
    "testing_results(x_test,y_test,random_forest_reg)"
   ]
  },
  {
   "cell_type": "code",
   "execution_count": 44,
   "id": "932fe8fa",
   "metadata": {},
   "outputs": [],
   "source": [
    "y_test_pred=random_forest_reg.predict(x_test)"
   ]
  },
  {
   "cell_type": "code",
   "execution_count": 45,
   "id": "baad1d81",
   "metadata": {},
   "outputs": [
    {
     "data": {
      "text/plain": [
       "array([ 21620.66666667,  14227.        ,  61152.        , ...,\n",
       "        25036.        ,  71214.38      , 123000.        ])"
      ]
     },
     "execution_count": 45,
     "metadata": {},
     "output_type": "execute_result"
    }
   ],
   "source": [
    "y_test_pred"
   ]
  },
  {
   "cell_type": "code",
   "execution_count": 46,
   "id": "aa735cbb",
   "metadata": {},
   "outputs": [
    {
     "data": {
      "text/plain": [
       "3079      25000.0\n",
       "10185     14227.0\n",
       "543       62000.0\n",
       "19141     55000.0\n",
       "28220     22000.0\n",
       "           ...   \n",
       "21118     11900.0\n",
       "13295     25000.0\n",
       "7495      12000.0\n",
       "4623      65949.0\n",
       "11890    123000.0\n",
       "Name: price, Length: 6530, dtype: float64"
      ]
     },
     "execution_count": 46,
     "metadata": {},
     "output_type": "execute_result"
    }
   ],
   "source": [
    "y_test"
   ]
  },
  {
   "cell_type": "code",
   "execution_count": 47,
   "id": "dab84ada",
   "metadata": {},
   "outputs": [],
   "source": [
    "#making pickle file\n",
    "with open (\"bike_price_modrandom_forest_regel.pkl\",\"wb\") as file:\n",
    "    pickle.dump(,file)"
   ]
  },
  {
   "cell_type": "code",
   "execution_count": 48,
   "id": "555e9f28",
   "metadata": {},
   "outputs": [],
   "source": [
    "#with pickle file of encoder\n",
    "with open(\"encoder.pkl\",\"wb\") as file:\n",
    "    pickle.dump(transformer,file)"
   ]
  },
  {
   "cell_type": "code",
   "execution_count": 49,
   "id": "d91b2a13",
   "metadata": {},
   "outputs": [
    {
     "data": {
      "text/html": [
       "<div>\n",
       "<style scoped>\n",
       "    .dataframe tbody tr th:only-of-type {\n",
       "        vertical-align: middle;\n",
       "    }\n",
       "\n",
       "    .dataframe tbody tr th {\n",
       "        vertical-align: top;\n",
       "    }\n",
       "\n",
       "    .dataframe thead th {\n",
       "        text-align: right;\n",
       "    }\n",
       "</style>\n",
       "<table border=\"1\" class=\"dataframe\">\n",
       "  <thead>\n",
       "    <tr style=\"text-align: right;\">\n",
       "      <th></th>\n",
       "      <th>bike_name</th>\n",
       "      <th>price</th>\n",
       "      <th>city</th>\n",
       "      <th>kms_driven</th>\n",
       "      <th>owner</th>\n",
       "      <th>age</th>\n",
       "      <th>power</th>\n",
       "      <th>brand</th>\n",
       "    </tr>\n",
       "  </thead>\n",
       "  <tbody>\n",
       "    <tr>\n",
       "      <th>0</th>\n",
       "      <td>TVS Star City Plus Dual Tone 110cc</td>\n",
       "      <td>35000.0</td>\n",
       "      <td>Ahmedabad</td>\n",
       "      <td>17654.0</td>\n",
       "      <td>First Owner</td>\n",
       "      <td>3.0</td>\n",
       "      <td>110.0</td>\n",
       "      <td>TVS</td>\n",
       "    </tr>\n",
       "    <tr>\n",
       "      <th>1</th>\n",
       "      <td>Royal Enfield Classic 350cc</td>\n",
       "      <td>119900.0</td>\n",
       "      <td>Delhi</td>\n",
       "      <td>11000.0</td>\n",
       "      <td>First Owner</td>\n",
       "      <td>4.0</td>\n",
       "      <td>350.0</td>\n",
       "      <td>Royal Enfield</td>\n",
       "    </tr>\n",
       "    <tr>\n",
       "      <th>2</th>\n",
       "      <td>Triumph Daytona 675R</td>\n",
       "      <td>600000.0</td>\n",
       "      <td>Delhi</td>\n",
       "      <td>110.0</td>\n",
       "      <td>First Owner</td>\n",
       "      <td>8.0</td>\n",
       "      <td>675.0</td>\n",
       "      <td>Triumph</td>\n",
       "    </tr>\n",
       "    <tr>\n",
       "      <th>3</th>\n",
       "      <td>TVS Apache RTR 180cc</td>\n",
       "      <td>65000.0</td>\n",
       "      <td>Bangalore</td>\n",
       "      <td>16329.0</td>\n",
       "      <td>First Owner</td>\n",
       "      <td>4.0</td>\n",
       "      <td>180.0</td>\n",
       "      <td>TVS</td>\n",
       "    </tr>\n",
       "    <tr>\n",
       "      <th>4</th>\n",
       "      <td>Yamaha FZ S V 2.0 150cc-Ltd. Edition</td>\n",
       "      <td>80000.0</td>\n",
       "      <td>Bangalore</td>\n",
       "      <td>10000.0</td>\n",
       "      <td>First Owner</td>\n",
       "      <td>3.0</td>\n",
       "      <td>150.0</td>\n",
       "      <td>Yamaha</td>\n",
       "    </tr>\n",
       "    <tr>\n",
       "      <th>5</th>\n",
       "      <td>Yamaha FZs 150cc</td>\n",
       "      <td>53499.0</td>\n",
       "      <td>Delhi</td>\n",
       "      <td>25000.0</td>\n",
       "      <td>First Owner</td>\n",
       "      <td>6.0</td>\n",
       "      <td>150.0</td>\n",
       "      <td>Yamaha</td>\n",
       "    </tr>\n",
       "    <tr>\n",
       "      <th>6</th>\n",
       "      <td>Honda CB Hornet 160R  ABS DLX</td>\n",
       "      <td>85000.0</td>\n",
       "      <td>Delhi</td>\n",
       "      <td>8200.0</td>\n",
       "      <td>First Owner</td>\n",
       "      <td>3.0</td>\n",
       "      <td>160.0</td>\n",
       "      <td>Honda</td>\n",
       "    </tr>\n",
       "    <tr>\n",
       "      <th>7</th>\n",
       "      <td>Hero Splendor Plus Self Alloy 100cc</td>\n",
       "      <td>45000.0</td>\n",
       "      <td>Delhi</td>\n",
       "      <td>12645.0</td>\n",
       "      <td>First Owner</td>\n",
       "      <td>3.0</td>\n",
       "      <td>100.0</td>\n",
       "      <td>Hero</td>\n",
       "    </tr>\n",
       "    <tr>\n",
       "      <th>8</th>\n",
       "      <td>Royal Enfield Thunderbird X 350cc</td>\n",
       "      <td>145000.0</td>\n",
       "      <td>Bangalore</td>\n",
       "      <td>9190.0</td>\n",
       "      <td>First Owner</td>\n",
       "      <td>3.0</td>\n",
       "      <td>350.0</td>\n",
       "      <td>Royal Enfield</td>\n",
       "    </tr>\n",
       "    <tr>\n",
       "      <th>9</th>\n",
       "      <td>Royal Enfield Classic Desert Storm 500cc</td>\n",
       "      <td>88000.0</td>\n",
       "      <td>Delhi</td>\n",
       "      <td>19000.0</td>\n",
       "      <td>Second Owner</td>\n",
       "      <td>7.0</td>\n",
       "      <td>500.0</td>\n",
       "      <td>Royal Enfield</td>\n",
       "    </tr>\n",
       "    <tr>\n",
       "      <th>10</th>\n",
       "      <td>Yamaha YZF-R15 2.0 150cc</td>\n",
       "      <td>72000.0</td>\n",
       "      <td>Bangalore</td>\n",
       "      <td>20000.0</td>\n",
       "      <td>First Owner</td>\n",
       "      <td>7.0</td>\n",
       "      <td>150.0</td>\n",
       "      <td>Yamaha</td>\n",
       "    </tr>\n",
       "  </tbody>\n",
       "</table>\n",
       "</div>"
      ],
      "text/plain": [
       "                                   bike_name     price       city  kms_driven  \\\n",
       "0         TVS Star City Plus Dual Tone 110cc   35000.0  Ahmedabad     17654.0   \n",
       "1                Royal Enfield Classic 350cc  119900.0      Delhi     11000.0   \n",
       "2                       Triumph Daytona 675R  600000.0      Delhi       110.0   \n",
       "3                       TVS Apache RTR 180cc   65000.0  Bangalore     16329.0   \n",
       "4       Yamaha FZ S V 2.0 150cc-Ltd. Edition   80000.0  Bangalore     10000.0   \n",
       "5                           Yamaha FZs 150cc   53499.0      Delhi     25000.0   \n",
       "6              Honda CB Hornet 160R  ABS DLX   85000.0      Delhi      8200.0   \n",
       "7        Hero Splendor Plus Self Alloy 100cc   45000.0      Delhi     12645.0   \n",
       "8          Royal Enfield Thunderbird X 350cc  145000.0  Bangalore      9190.0   \n",
       "9   Royal Enfield Classic Desert Storm 500cc   88000.0      Delhi     19000.0   \n",
       "10                  Yamaha YZF-R15 2.0 150cc   72000.0  Bangalore     20000.0   \n",
       "\n",
       "           owner  age  power          brand  \n",
       "0    First Owner  3.0  110.0            TVS  \n",
       "1    First Owner  4.0  350.0  Royal Enfield  \n",
       "2    First Owner  8.0  675.0        Triumph  \n",
       "3    First Owner  4.0  180.0            TVS  \n",
       "4    First Owner  3.0  150.0         Yamaha  \n",
       "5    First Owner  6.0  150.0         Yamaha  \n",
       "6    First Owner  3.0  160.0          Honda  \n",
       "7    First Owner  3.0  100.0           Hero  \n",
       "8    First Owner  3.0  350.0  Royal Enfield  \n",
       "9   Second Owner  7.0  500.0  Royal Enfield  \n",
       "10   First Owner  7.0  150.0         Yamaha  "
      ]
     },
     "execution_count": 49,
     "metadata": {},
     "output_type": "execute_result"
    }
   ],
   "source": [
    "df.loc[0:10]"
   ]
  },
  {
   "cell_type": "code",
   "execution_count": 50,
   "id": "7b60af88",
   "metadata": {},
   "outputs": [
    {
     "data": {
      "text/html": [
       "<div>\n",
       "<style scoped>\n",
       "    .dataframe tbody tr th:only-of-type {\n",
       "        vertical-align: middle;\n",
       "    }\n",
       "\n",
       "    .dataframe tbody tr th {\n",
       "        vertical-align: top;\n",
       "    }\n",
       "\n",
       "    .dataframe thead th {\n",
       "        text-align: right;\n",
       "    }\n",
       "</style>\n",
       "<table border=\"1\" class=\"dataframe\">\n",
       "  <thead>\n",
       "    <tr style=\"text-align: right;\">\n",
       "      <th></th>\n",
       "      <th>bike_name</th>\n",
       "      <th>city</th>\n",
       "      <th>kms_driven</th>\n",
       "      <th>owner</th>\n",
       "      <th>age</th>\n",
       "      <th>power</th>\n",
       "      <th>brand</th>\n",
       "    </tr>\n",
       "  </thead>\n",
       "  <tbody>\n",
       "    <tr>\n",
       "      <th>0</th>\n",
       "      <td>Uncommon</td>\n",
       "      <td>Ahmedabad</td>\n",
       "      <td>17654.0</td>\n",
       "      <td>First Owner</td>\n",
       "      <td>3.0</td>\n",
       "      <td>110.0</td>\n",
       "      <td>TVS</td>\n",
       "    </tr>\n",
       "    <tr>\n",
       "      <th>1</th>\n",
       "      <td>Royal Enfield Classic 350cc</td>\n",
       "      <td>Delhi</td>\n",
       "      <td>11000.0</td>\n",
       "      <td>First Owner</td>\n",
       "      <td>4.0</td>\n",
       "      <td>350.0</td>\n",
       "      <td>Royal Enfield</td>\n",
       "    </tr>\n",
       "    <tr>\n",
       "      <th>2</th>\n",
       "      <td>Uncommon</td>\n",
       "      <td>Delhi</td>\n",
       "      <td>110.0</td>\n",
       "      <td>First Owner</td>\n",
       "      <td>8.0</td>\n",
       "      <td>675.0</td>\n",
       "      <td>Uncommon</td>\n",
       "    </tr>\n",
       "    <tr>\n",
       "      <th>3</th>\n",
       "      <td>Uncommon</td>\n",
       "      <td>Bangalore</td>\n",
       "      <td>16329.0</td>\n",
       "      <td>First Owner</td>\n",
       "      <td>4.0</td>\n",
       "      <td>180.0</td>\n",
       "      <td>TVS</td>\n",
       "    </tr>\n",
       "    <tr>\n",
       "      <th>4</th>\n",
       "      <td>Uncommon</td>\n",
       "      <td>Bangalore</td>\n",
       "      <td>10000.0</td>\n",
       "      <td>First Owner</td>\n",
       "      <td>3.0</td>\n",
       "      <td>150.0</td>\n",
       "      <td>Yamaha</td>\n",
       "    </tr>\n",
       "    <tr>\n",
       "      <th>5</th>\n",
       "      <td>Uncommon</td>\n",
       "      <td>Delhi</td>\n",
       "      <td>25000.0</td>\n",
       "      <td>First Owner</td>\n",
       "      <td>6.0</td>\n",
       "      <td>150.0</td>\n",
       "      <td>Yamaha</td>\n",
       "    </tr>\n",
       "    <tr>\n",
       "      <th>6</th>\n",
       "      <td>Uncommon</td>\n",
       "      <td>Delhi</td>\n",
       "      <td>8200.0</td>\n",
       "      <td>First Owner</td>\n",
       "      <td>3.0</td>\n",
       "      <td>160.0</td>\n",
       "      <td>Honda</td>\n",
       "    </tr>\n",
       "    <tr>\n",
       "      <th>7</th>\n",
       "      <td>Uncommon</td>\n",
       "      <td>Delhi</td>\n",
       "      <td>12645.0</td>\n",
       "      <td>First Owner</td>\n",
       "      <td>3.0</td>\n",
       "      <td>100.0</td>\n",
       "      <td>Hero</td>\n",
       "    </tr>\n",
       "    <tr>\n",
       "      <th>8</th>\n",
       "      <td>Uncommon</td>\n",
       "      <td>Bangalore</td>\n",
       "      <td>9190.0</td>\n",
       "      <td>First Owner</td>\n",
       "      <td>3.0</td>\n",
       "      <td>350.0</td>\n",
       "      <td>Royal Enfield</td>\n",
       "    </tr>\n",
       "    <tr>\n",
       "      <th>9</th>\n",
       "      <td>Uncommon</td>\n",
       "      <td>Delhi</td>\n",
       "      <td>19000.0</td>\n",
       "      <td>Second Owner</td>\n",
       "      <td>7.0</td>\n",
       "      <td>500.0</td>\n",
       "      <td>Royal Enfield</td>\n",
       "    </tr>\n",
       "    <tr>\n",
       "      <th>10</th>\n",
       "      <td>Yamaha YZF-R15 2.0 150cc</td>\n",
       "      <td>Bangalore</td>\n",
       "      <td>20000.0</td>\n",
       "      <td>First Owner</td>\n",
       "      <td>7.0</td>\n",
       "      <td>150.0</td>\n",
       "      <td>Yamaha</td>\n",
       "    </tr>\n",
       "  </tbody>\n",
       "</table>\n",
       "</div>"
      ],
      "text/plain": [
       "                      bike_name       city  kms_driven         owner  age  \\\n",
       "0                      Uncommon  Ahmedabad     17654.0   First Owner  3.0   \n",
       "1   Royal Enfield Classic 350cc      Delhi     11000.0   First Owner  4.0   \n",
       "2                      Uncommon      Delhi       110.0   First Owner  8.0   \n",
       "3                      Uncommon  Bangalore     16329.0   First Owner  4.0   \n",
       "4                      Uncommon  Bangalore     10000.0   First Owner  3.0   \n",
       "5                      Uncommon      Delhi     25000.0   First Owner  6.0   \n",
       "6                      Uncommon      Delhi      8200.0   First Owner  3.0   \n",
       "7                      Uncommon      Delhi     12645.0   First Owner  3.0   \n",
       "8                      Uncommon  Bangalore      9190.0   First Owner  3.0   \n",
       "9                      Uncommon      Delhi     19000.0  Second Owner  7.0   \n",
       "10     Yamaha YZF-R15 2.0 150cc  Bangalore     20000.0   First Owner  7.0   \n",
       "\n",
       "    power          brand  \n",
       "0   110.0            TVS  \n",
       "1   350.0  Royal Enfield  \n",
       "2   675.0       Uncommon  \n",
       "3   180.0            TVS  \n",
       "4   150.0         Yamaha  \n",
       "5   150.0         Yamaha  \n",
       "6   160.0          Honda  \n",
       "7   100.0           Hero  \n",
       "8   350.0  Royal Enfield  \n",
       "9   500.0  Royal Enfield  \n",
       "10  150.0         Yamaha  "
      ]
     },
     "execution_count": 50,
     "metadata": {},
     "output_type": "execute_result"
    }
   ],
   "source": [
    "test_query=x.loc[0:10]\n",
    "test_query"
   ]
  },
  {
   "cell_type": "code",
   "execution_count": null,
   "id": "6cca3787",
   "metadata": {},
   "outputs": [],
   "source": []
  },
  {
   "cell_type": "code",
   "execution_count": 51,
   "id": "1bf22a85",
   "metadata": {},
   "outputs": [],
   "source": [
    "transformed_test_query=transformer.transform(test_query)\n"
   ]
  },
  {
   "cell_type": "code",
   "execution_count": 52,
   "id": "5d29ef91",
   "metadata": {},
   "outputs": [
    {
     "name": "stderr",
     "output_type": "stream",
     "text": [
      "C:\\Users\\kannu\\AppData\\Local\\Programs\\Python\\Python310\\lib\\site-packages\\sklearn\\base.py:450: UserWarning: X does not have valid feature names, but RandomForestRegressor was fitted with feature names\n",
      "  warnings.warn(\n"
     ]
    },
    {
     "data": {
      "text/plain": [
       "array([ 39987.02      , 117980.        , 470302.844     ,  66449.98      ,\n",
       "       114720.        ,  48571.38      ,  80333.        ,  48225.83333333,\n",
       "       145891.        , 112252.        ,  73314.        ])"
      ]
     },
     "execution_count": 52,
     "metadata": {},
     "output_type": "execute_result"
    }
   ],
   "source": [
    "random_forest_reg.predict(transformed_test_query)"
   ]
  },
  {
   "cell_type": "code",
   "execution_count": null,
   "id": "cf6ec0ff",
   "metadata": {},
   "outputs": [],
   "source": []
  },
  {
   "cell_type": "code",
   "execution_count": 53,
   "id": "5c593ee7",
   "metadata": {},
   "outputs": [],
   "source": [
    "###making code , to seggregate values which are not in top 10.\n",
    "\n",
    "def not_top_10(df):\n",
    "    top_10=df.value_counts().sort_values(ascending=False).head(10).index.to_list()\n",
    "    not_top_10=df.loc[df.isin (top_10)==False].unique()\n",
    "    a=list(not_top_10)\n",
    "    return a "
   ]
  },
  {
   "cell_type": "code",
   "execution_count": 54,
   "id": "f6571199",
   "metadata": {},
   "outputs": [],
   "source": [
    "not_top_10_city=not_top_10(df[\"city\"])\n",
    "not_top_10_bike=not_top_10(df[\"bike_name\"])\n",
    "not_top_10_brand=not_top_10(df[\"brand\"])"
   ]
  },
  {
   "cell_type": "code",
   "execution_count": 55,
   "id": "5b2e9897",
   "metadata": {},
   "outputs": [
    {
     "name": "stdout",
     "output_type": "stream",
     "text": [
      "['Triumph', 'Benelli', 'Mahindra', 'Ducati', 'Hyosung', 'Jawa', 'BMW', 'Indian', 'Rajdoot', 'LML', 'Yezdi', 'MV', 'Ideal']\n"
     ]
    }
   ],
   "source": [
    "print(not_top_10_brand)"
   ]
  },
  {
   "cell_type": "code",
   "execution_count": 56,
   "id": "282a670f",
   "metadata": {},
   "outputs": [],
   "source": [
    "df1=pd.read_csv(r\"C:\\Users\\kannu\\OneDrive\\Desktop\\Pandas_csvs\\Datasets\\Regression_data_sets\\used_bikes.csv\")"
   ]
  },
  {
   "cell_type": "code",
   "execution_count": 57,
   "id": "6ede3ac3",
   "metadata": {},
   "outputs": [
    {
     "name": "stderr",
     "output_type": "stream",
     "text": [
      "C:\\Users\\kannu\\AppData\\Local\\Temp\\ipykernel_8624\\563414008.py:1: SettingWithCopyWarning: \n",
      "A value is trying to be set on a copy of a slice from a DataFrame\n",
      "\n",
      "See the caveats in the documentation: https://pandas.pydata.org/pandas-docs/stable/user_guide/indexing.html#returning-a-view-versus-a-copy\n",
      "  df1[\"bike_name\"].loc[df1[\"bike_name\"].isin (not_top_10_bike) ]=\"Uncommon\"\n"
     ]
    }
   ],
   "source": [
    "df1[\"bike_name\"].loc[df1[\"bike_name\"].isin (not_top_10_bike) ]=\"Uncommon\"\n"
   ]
  },
  {
   "cell_type": "code",
   "execution_count": 58,
   "id": "b74a0c3f",
   "metadata": {},
   "outputs": [
    {
     "data": {
      "text/plain": [
       "0                           Uncommon\n",
       "1        Royal Enfield Classic 350cc\n",
       "2                           Uncommon\n",
       "3                           Uncommon\n",
       "4                           Uncommon\n",
       "                    ...             \n",
       "32643         Hero Passion Pro 100cc\n",
       "32644                       Uncommon\n",
       "32645       Bajaj Avenger Street 220\n",
       "32646                       Uncommon\n",
       "32647             Bajaj Pulsar 150cc\n",
       "Name: bike_name, Length: 32648, dtype: object"
      ]
     },
     "execution_count": 58,
     "metadata": {},
     "output_type": "execute_result"
    }
   ],
   "source": [
    "df1[\"bike_name\"]"
   ]
  },
  {
   "cell_type": "code",
   "execution_count": 59,
   "id": "6131067e",
   "metadata": {},
   "outputs": [],
   "source": [
    "with open (\"encoder.pkl\",\"rb\") as file:\n",
    "        transformer=pickle.load(file)\n"
   ]
  },
  {
   "cell_type": "code",
   "execution_count": 63,
   "id": "9c7599d4",
   "metadata": {},
   "outputs": [
    {
     "data": {
      "text/plain": [
       "{'First Owner': 29964,\n",
       " 'Second Owner': 2564,\n",
       " 'Third Owner': 108,\n",
       " 'Fourth Owner Or More': 12}"
      ]
     },
     "execution_count": 63,
     "metadata": {},
     "output_type": "execute_result"
    }
   ],
   "source": [
    "df[\"owner\"].value_counts().to_dict()\n"
   ]
  },
  {
   "cell_type": "code",
   "execution_count": 66,
   "id": "e1d540e1",
   "metadata": {},
   "outputs": [],
   "source": [
    "a=x[0:5]"
   ]
  },
  {
   "cell_type": "code",
   "execution_count": 76,
   "id": "c48bad94",
   "metadata": {},
   "outputs": [],
   "source": [
    "encoded=transformer.transform(a)\n",
    "df_encoded=pd.DataFrame(encoded)"
   ]
  },
  {
   "cell_type": "code",
   "execution_count": 77,
   "id": "fc2f0da0",
   "metadata": {},
   "outputs": [
    {
     "name": "stderr",
     "output_type": "stream",
     "text": [
      "C:\\Users\\kannu\\AppData\\Local\\Programs\\Python\\Python310\\lib\\site-packages\\sklearn\\base.py:450: UserWarning: X does not have valid feature names, but RandomForestRegressor was fitted with feature names\n",
      "  warnings.warn(\n"
     ]
    },
    {
     "data": {
      "text/plain": [
       "array([ 39987.02 , 117980.   , 470302.844,  66449.98 , 114720.   ])"
      ]
     },
     "execution_count": 77,
     "metadata": {},
     "output_type": "execute_result"
    }
   ],
   "source": [
    "random_forest_reg.predict(df_encoded)"
   ]
  },
  {
   "attachments": {
    "image.png": {
     "image/png": "[encoded data removed]"
    }
   },
   "cell_type": "markdown",
   "id": "35d39ecf",
   "metadata": {},
   "source": [
    "![image.png](attachment:image.png)"
   ]
  },
  {
   "cell_type": "code",
   "execution_count": null,
   "id": "c30b9a9a",
   "metadata": {},
   "outputs": [],
   "source": [
    "37049"
   ]
  },
  {
   "cell_type": "code",
   "execution_count": null,
   "id": "7cbdc364",
   "metadata": {},
   "outputs": [],
   "source": [
    "x=pd.DataFrame({\"bike_name\":[\"Bajaj Pulsar 150cc\"],\"city\":\"Delhi\",\"brand\":\"Bajaj\",\"owner\":\"First owner\",\"age\":4,\"kms_driven\":343,\"power\":67})"
   ]
  }
 ],
 "metadata": {
  "kernelspec": {
   "display_name": "Python 3 (ipykernel)",
   "language": "python",
   "name": "python3"
  },
  "language_info": {
   "codemirror_mode": {
    "name": "ipython",
    "version": 3
   },
   "file_extension": ".py",
   "mimetype": "text/x-python",
   "name": "python",
   "nbconvert_exporter": "python",
   "pygments_lexer": "ipython3",
   "version": "3.10.4"
  }
 },
 "nbformat": 4,
 "nbformat_minor": 5
}
